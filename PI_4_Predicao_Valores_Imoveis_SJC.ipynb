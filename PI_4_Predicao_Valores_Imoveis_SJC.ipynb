{
  "cells": [
    {
      "attachments": {},
      "cell_type": "markdown",
      "metadata": {
        "colab_type": "text",
        "id": "view-in-github"
      },
      "source": [
        "<a href=\"https://colab.research.google.com/github/fabiollg/PI-4_Predicao_Valores_Imoveis_SJC/blob/main/PI_4_Predicao_Valores_Imoveis_SJC.ipynb\" target=\"_parent\"><img src=\"https://colab.research.google.com/assets/colab-badge.svg\" alt=\"Open In Colab\"/></a>"
      ]
    },
    {
      "attachments": {},
      "cell_type": "markdown",
      "metadata": {},
      "source": [
        "# <b>PROJETO INTEGRADOR 4 - PREDIÇÃO DE VALORES DE ALUGUÉIS DE IMÓVEIS EM SÃO JOSÉ DOS CAMPOS</b>\n",
        "\n",
        "#### <li><b>Objetivo:</b> Efetuar um protótipo de um aplicativo que consiga estimar de forma automática, através de aprendizado de máquinas, com boa precisão (> 90%), o valor do aluguel de um determinado imóvel em São José dos Campos de forma a auxiliar os envolvidos na negociação (proprietário e inquilino).\n",
        "#### <li><b>Dados Iniciais:</b>\n",
        "#### a) Dados com valores de aluguéis de imóveis da cidade de São José dos Campos obtidos a partir do 2º semestre de 2021 e ao longo de 2022. \n",
        "#### b) Tabela do IBGE correlacionando os CEPs de todo o Brasil com os endereços dos imóveis e com suas coordenadas geográficas."
      ]
    },
    {
      "cell_type": "code",
      "execution_count": null,
      "metadata": {},
      "outputs": [],
      "source": [
        "# Instalando bibliotecas para possibilitar o trabalho com dataframes.\n",
        "%pip install pandas"
      ]
    },
    {
      "cell_type": "code",
      "execution_count": null,
      "metadata": {},
      "outputs": [],
      "source": [
        "%pip install matplotlib"
      ]
    },
    {
      "cell_type": "code",
      "execution_count": 131,
      "metadata": {
        "id": "FXaW12zggKP2"
      },
      "outputs": [],
      "source": [
        "# Importando as bibliotecas a serem utilizadas.\n",
        "import pandas as pd\n",
        "import matplotlib.pyplot as plt\n",
        "import numpy as np"
      ]
    },
    {
      "attachments": {},
      "cell_type": "markdown",
      "metadata": {},
      "source": [
        "<hr>"
      ]
    },
    {
      "attachments": {},
      "cell_type": "markdown",
      "metadata": {},
      "source": [
        "# <b>1) Identificação e Tratamento Inicial dos Dados</b>"
      ]
    },
    {
      "attachments": {},
      "cell_type": "markdown",
      "metadata": {
        "id": "T4Td5FtVDDt2"
      },
      "source": [
        "### <li><font color=\"#800080\">Carregando dados, com o preço de aluguéis e características dos imóveis, do arquivo \"listings.zip\":</font>"
      ]
    },
    {
      "cell_type": "code",
      "execution_count": null,
      "metadata": {
        "colab": {
          "base_uri": "https://localhost:8080/",
          "height": 1000
        },
        "id": "YtZb602ECvxb",
        "outputId": "510b56e0-d6c1-49dc-bce0-39e3902d6901"
      },
      "outputs": [],
      "source": [
        "url_dados = 'https://github.com/fabiollg/PI-4_Predicao_Valores_Imoveis_SJC/blob/main/dados/new-listings.zip?raw=true'\n",
        "dados = pd.read_csv(url_dados,compression='zip')"
      ]
    },
    {
      "attachments": {},
      "cell_type": "markdown",
      "metadata": {
        "id": "detbBQYQifBO"
      },
      "source": [
        "### <li><font color=\"#800080\">Visualizando todas as colunas para identificar todos os atributos disponíveis e a possibilidade de filtrá-los:</font>"
      ]
    },
    {
      "cell_type": "code",
      "execution_count": 133,
      "metadata": {
        "colab": {
          "base_uri": "https://localhost:8080/",
          "height": 1000
        },
        "id": "siDZzYmgio0o",
        "outputId": "c433b62e-a8b8-40bc-80ff-4c541dc640ea"
      },
      "outputs": [
        {
          "data": {
            "text/html": [
              "<div>\n",
              "<style scoped>\n",
              "    .dataframe tbody tr th:only-of-type {\n",
              "        vertical-align: middle;\n",
              "    }\n",
              "\n",
              "    .dataframe tbody tr th {\n",
              "        vertical-align: top;\n",
              "    }\n",
              "\n",
              "    .dataframe thead th {\n",
              "        text-align: right;\n",
              "    }\n",
              "</style>\n",
              "<table border=\"1\" class=\"dataframe\">\n",
              "  <thead>\n",
              "    <tr style=\"text-align: right;\">\n",
              "      <th></th>\n",
              "      <th>id</th>\n",
              "      <th>resource_id</th>\n",
              "      <th>provider_id</th>\n",
              "      <th>advertiser_id</th>\n",
              "      <th>address_country</th>\n",
              "      <th>address_state</th>\n",
              "      <th>address_city</th>\n",
              "      <th>address_neighborhood</th>\n",
              "      <th>address_street_number</th>\n",
              "      <th>address_street</th>\n",
              "      <th>address_unit_number</th>\n",
              "      <th>address_zipcode</th>\n",
              "      <th>latitude</th>\n",
              "      <th>longitude</th>\n",
              "      <th>title</th>\n",
              "      <th>description</th>\n",
              "      <th>unit_type</th>\n",
              "      <th>amenities</th>\n",
              "      <th>bathrooms</th>\n",
              "      <th>bedrooms</th>\n",
              "      <th>suites</th>\n",
              "      <th>parking_spaces</th>\n",
              "      <th>total_area</th>\n",
              "      <th>usable_area</th>\n",
              "      <th>price</th>\n",
              "      <th>price_monthly_condo_fee</th>\n",
              "      <th>price_rental_total</th>\n",
              "      <th>price_yearly_iptu</th>\n",
              "      <th>publication_type</th>\n",
              "      <th>listing_status</th>\n",
              "      <th>listing_type</th>\n",
              "      <th>created_at</th>\n",
              "      <th>updated_at</th>\n",
              "      <th>raw_data</th>\n",
              "      <th>scraped_at</th>\n",
              "    </tr>\n",
              "  </thead>\n",
              "  <tbody>\n",
              "    <tr>\n",
              "      <th>0</th>\n",
              "      <td>923833</td>\n",
              "      <td>2539419421</td>\n",
              "      <td>61529.0</td>\n",
              "      <td>8132d7f5-ac6e-8229-ac29-66e53d55fe1e</td>\n",
              "      <td>BR</td>\n",
              "      <td>São Paulo</td>\n",
              "      <td>São José dos Campos</td>\n",
              "      <td>Jardim das Indústrias</td>\n",
              "      <td>NaN</td>\n",
              "      <td>NaN</td>\n",
              "      <td>NaN</td>\n",
              "      <td>12241200.0</td>\n",
              "      <td>NaN</td>\n",
              "      <td>NaN</td>\n",
              "      <td>Excelente apartamento para alugar de 2 dormitó...</td>\n",
              "      <td>Excelente Apartamento no Splendor Garden - Jd....</td>\n",
              "      <td>0</td>\n",
              "      <td>[\"POOL\", \"BARBECUE_GRILL\", \"ELEVATOR\", \"SERVIC...</td>\n",
              "      <td>2</td>\n",
              "      <td>2</td>\n",
              "      <td>0</td>\n",
              "      <td>2.0</td>\n",
              "      <td>100</td>\n",
              "      <td>0</td>\n",
              "      <td>3000</td>\n",
              "      <td>482</td>\n",
              "      <td>0</td>\n",
              "      <td>155</td>\n",
              "      <td>STANDARD</td>\n",
              "      <td>NaN</td>\n",
              "      <td>USED</td>\n",
              "      <td>2021-10-28 01:43:54.123+00</td>\n",
              "      <td>2021-10-28 01:43:56.883+00</td>\n",
              "      <td>{\"link\": {\"rel\": \"\", \"data\": {\"city\": \"São Jos...</td>\n",
              "      <td>2021-10-28 05:07:15.43542+00</td>\n",
              "    </tr>\n",
              "    <tr>\n",
              "      <th>1</th>\n",
              "      <td>1336880</td>\n",
              "      <td>2549894537</td>\n",
              "      <td>10048.0</td>\n",
              "      <td>5edc5203-b48b-1278-0e4b-36b4bf556daf</td>\n",
              "      <td>BR</td>\n",
              "      <td>São Paulo</td>\n",
              "      <td>São José dos Campos</td>\n",
              "      <td>Jardim América</td>\n",
              "      <td>NaN</td>\n",
              "      <td>Rua Andorra</td>\n",
              "      <td>NaN</td>\n",
              "      <td>12235050.0</td>\n",
              "      <td>NaN</td>\n",
              "      <td>NaN</td>\n",
              "      <td>Apartamento locação Jardim América!!! Spazio C...</td>\n",
              "      <td>Apartamento no Jardim América - Localização es...</td>\n",
              "      <td>0</td>\n",
              "      <td>[]</td>\n",
              "      <td>2</td>\n",
              "      <td>3</td>\n",
              "      <td>1</td>\n",
              "      <td>1.0</td>\n",
              "      <td>64</td>\n",
              "      <td>0</td>\n",
              "      <td>1800</td>\n",
              "      <td>290</td>\n",
              "      <td>0</td>\n",
              "      <td>0</td>\n",
              "      <td>STANDARD</td>\n",
              "      <td>NaN</td>\n",
              "      <td>USED</td>\n",
              "      <td>2022-02-01 19:01:11.276+00</td>\n",
              "      <td>2022-02-01 19:01:21.341+00</td>\n",
              "      <td>{\"link\": {\"rel\": \"\", \"data\": {\"city\": \"São Jos...</td>\n",
              "      <td>2022-02-02 05:08:59.620765+00</td>\n",
              "    </tr>\n",
              "    <tr>\n",
              "      <th>2</th>\n",
              "      <td>1134517</td>\n",
              "      <td>2546641936</td>\n",
              "      <td>60384.0</td>\n",
              "      <td>ef34904e-bd8d-66bd-cd90-e3f966a6bf3b</td>\n",
              "      <td>BR</td>\n",
              "      <td>São Paulo</td>\n",
              "      <td>São José dos Campos</td>\n",
              "      <td>Jardim São Dimas</td>\n",
              "      <td>NaN</td>\n",
              "      <td>Avenida Doutor Adhemar de Barros</td>\n",
              "      <td>NaN</td>\n",
              "      <td>12245011.0</td>\n",
              "      <td>NaN</td>\n",
              "      <td>NaN</td>\n",
              "      <td>Apartamento Vila Adyana em frente ao Parque Sa...</td>\n",
              "      <td>118 m2, &lt;br&gt;3 quartos, sendo 1 suíte, &lt;br&gt;Sala...</td>\n",
              "      <td>0</td>\n",
              "      <td>[\"POOL\", \"BARBECUE_GRILL\"]</td>\n",
              "      <td>3</td>\n",
              "      <td>3</td>\n",
              "      <td>1</td>\n",
              "      <td>1.0</td>\n",
              "      <td>118</td>\n",
              "      <td>0</td>\n",
              "      <td>2500</td>\n",
              "      <td>750</td>\n",
              "      <td>0</td>\n",
              "      <td>0</td>\n",
              "      <td>STANDARD</td>\n",
              "      <td>NaN</td>\n",
              "      <td>USED</td>\n",
              "      <td>2022-01-04 07:22:09.019+00</td>\n",
              "      <td>2022-01-28 11:21:26.848+00</td>\n",
              "      <td>{\"link\": {\"rel\": \"\", \"data\": {\"city\": \"São Jos...</td>\n",
              "      <td>2022-01-05 05:07:37.423878+00</td>\n",
              "    </tr>\n",
              "  </tbody>\n",
              "</table>\n",
              "</div>"
            ],
            "text/plain": [
              "        id  resource_id  provider_id                         advertiser_id   \n",
              "0   923833   2539419421      61529.0  8132d7f5-ac6e-8229-ac29-66e53d55fe1e  \\\n",
              "1  1336880   2549894537      10048.0  5edc5203-b48b-1278-0e4b-36b4bf556daf   \n",
              "2  1134517   2546641936      60384.0  ef34904e-bd8d-66bd-cd90-e3f966a6bf3b   \n",
              "\n",
              "  address_country address_state         address_city   address_neighborhood   \n",
              "0              BR     São Paulo  São José dos Campos  Jardim das Indústrias  \\\n",
              "1              BR     São Paulo  São José dos Campos         Jardim América   \n",
              "2              BR     São Paulo  São José dos Campos       Jardim São Dimas   \n",
              "\n",
              "  address_street_number                    address_street   \n",
              "0                   NaN                               NaN  \\\n",
              "1                   NaN                       Rua Andorra   \n",
              "2                   NaN  Avenida Doutor Adhemar de Barros   \n",
              "\n",
              "   address_unit_number  address_zipcode  latitude  longitude   \n",
              "0                  NaN       12241200.0       NaN        NaN  \\\n",
              "1                  NaN       12235050.0       NaN        NaN   \n",
              "2                  NaN       12245011.0       NaN        NaN   \n",
              "\n",
              "                                               title   \n",
              "0  Excelente apartamento para alugar de 2 dormitó...  \\\n",
              "1  Apartamento locação Jardim América!!! Spazio C...   \n",
              "2  Apartamento Vila Adyana em frente ao Parque Sa...   \n",
              "\n",
              "                                         description  unit_type   \n",
              "0  Excelente Apartamento no Splendor Garden - Jd....          0  \\\n",
              "1  Apartamento no Jardim América - Localização es...          0   \n",
              "2  118 m2, <br>3 quartos, sendo 1 suíte, <br>Sala...          0   \n",
              "\n",
              "                                           amenities  bathrooms  bedrooms   \n",
              "0  [\"POOL\", \"BARBECUE_GRILL\", \"ELEVATOR\", \"SERVIC...          2         2  \\\n",
              "1                                                 []          2         3   \n",
              "2                         [\"POOL\", \"BARBECUE_GRILL\"]          3         3   \n",
              "\n",
              "   suites  parking_spaces  total_area  usable_area  price   \n",
              "0       0             2.0         100            0   3000  \\\n",
              "1       1             1.0          64            0   1800   \n",
              "2       1             1.0         118            0   2500   \n",
              "\n",
              "   price_monthly_condo_fee  price_rental_total  price_yearly_iptu   \n",
              "0                      482                   0                155  \\\n",
              "1                      290                   0                  0   \n",
              "2                      750                   0                  0   \n",
              "\n",
              "  publication_type  listing_status listing_type                  created_at   \n",
              "0         STANDARD             NaN         USED  2021-10-28 01:43:54.123+00  \\\n",
              "1         STANDARD             NaN         USED  2022-02-01 19:01:11.276+00   \n",
              "2         STANDARD             NaN         USED  2022-01-04 07:22:09.019+00   \n",
              "\n",
              "                   updated_at   \n",
              "0  2021-10-28 01:43:56.883+00  \\\n",
              "1  2022-02-01 19:01:21.341+00   \n",
              "2  2022-01-28 11:21:26.848+00   \n",
              "\n",
              "                                            raw_data   \n",
              "0  {\"link\": {\"rel\": \"\", \"data\": {\"city\": \"São Jos...  \\\n",
              "1  {\"link\": {\"rel\": \"\", \"data\": {\"city\": \"São Jos...   \n",
              "2  {\"link\": {\"rel\": \"\", \"data\": {\"city\": \"São Jos...   \n",
              "\n",
              "                      scraped_at  \n",
              "0   2021-10-28 05:07:15.43542+00  \n",
              "1  2022-02-02 05:08:59.620765+00  \n",
              "2  2022-01-05 05:07:37.423878+00  "
            ]
          },
          "metadata": {},
          "output_type": "display_data"
        }
      ],
      "source": [
        "pd.set_option('display.max_columns',None)\n",
        "display(dados.head(3))"
      ]
    },
    {
      "attachments": {},
      "cell_type": "markdown",
      "metadata": {
        "id": "HTRSYYPTmMv-"
      },
      "source": [
        "### <li><font color=\"#800080\">Eliminando colunas que não serão úteis na análise dos dados:</font>"
      ]
    },
    {
      "cell_type": "code",
      "execution_count": 134,
      "metadata": {
        "id": "9QkeGXUwmThJ"
      },
      "outputs": [
        {
          "data": {
            "text/html": [
              "<div>\n",
              "<style scoped>\n",
              "    .dataframe tbody tr th:only-of-type {\n",
              "        vertical-align: middle;\n",
              "    }\n",
              "\n",
              "    .dataframe tbody tr th {\n",
              "        vertical-align: top;\n",
              "    }\n",
              "\n",
              "    .dataframe thead th {\n",
              "        text-align: right;\n",
              "    }\n",
              "</style>\n",
              "<table border=\"1\" class=\"dataframe\">\n",
              "  <thead>\n",
              "    <tr style=\"text-align: right;\">\n",
              "      <th></th>\n",
              "      <th>address_neighborhood</th>\n",
              "      <th>address_street</th>\n",
              "      <th>address_zipcode</th>\n",
              "      <th>latitude</th>\n",
              "      <th>longitude</th>\n",
              "      <th>bathrooms</th>\n",
              "      <th>bedrooms</th>\n",
              "      <th>suites</th>\n",
              "      <th>parking_spaces</th>\n",
              "      <th>total_area</th>\n",
              "      <th>price</th>\n",
              "      <th>price_monthly_condo_fee</th>\n",
              "      <th>price_yearly_iptu</th>\n",
              "    </tr>\n",
              "  </thead>\n",
              "  <tbody>\n",
              "    <tr>\n",
              "      <th>0</th>\n",
              "      <td>Jardim das Indústrias</td>\n",
              "      <td>NaN</td>\n",
              "      <td>12241200.0</td>\n",
              "      <td>NaN</td>\n",
              "      <td>NaN</td>\n",
              "      <td>2</td>\n",
              "      <td>2</td>\n",
              "      <td>0</td>\n",
              "      <td>2.0</td>\n",
              "      <td>100</td>\n",
              "      <td>3000</td>\n",
              "      <td>482</td>\n",
              "      <td>155</td>\n",
              "    </tr>\n",
              "    <tr>\n",
              "      <th>1</th>\n",
              "      <td>Jardim América</td>\n",
              "      <td>Rua Andorra</td>\n",
              "      <td>12235050.0</td>\n",
              "      <td>NaN</td>\n",
              "      <td>NaN</td>\n",
              "      <td>2</td>\n",
              "      <td>3</td>\n",
              "      <td>1</td>\n",
              "      <td>1.0</td>\n",
              "      <td>64</td>\n",
              "      <td>1800</td>\n",
              "      <td>290</td>\n",
              "      <td>0</td>\n",
              "    </tr>\n",
              "    <tr>\n",
              "      <th>2</th>\n",
              "      <td>Jardim São Dimas</td>\n",
              "      <td>Avenida Doutor Adhemar de Barros</td>\n",
              "      <td>12245011.0</td>\n",
              "      <td>NaN</td>\n",
              "      <td>NaN</td>\n",
              "      <td>3</td>\n",
              "      <td>3</td>\n",
              "      <td>1</td>\n",
              "      <td>1.0</td>\n",
              "      <td>118</td>\n",
              "      <td>2500</td>\n",
              "      <td>750</td>\n",
              "      <td>0</td>\n",
              "    </tr>\n",
              "  </tbody>\n",
              "</table>\n",
              "</div>"
            ],
            "text/plain": [
              "    address_neighborhood                    address_street  address_zipcode   \n",
              "0  Jardim das Indústrias                               NaN       12241200.0  \\\n",
              "1         Jardim América                       Rua Andorra       12235050.0   \n",
              "2       Jardim São Dimas  Avenida Doutor Adhemar de Barros       12245011.0   \n",
              "\n",
              "   latitude  longitude  bathrooms  bedrooms  suites  parking_spaces   \n",
              "0       NaN        NaN          2         2       0             2.0  \\\n",
              "1       NaN        NaN          2         3       1             1.0   \n",
              "2       NaN        NaN          3         3       1             1.0   \n",
              "\n",
              "   total_area  price  price_monthly_condo_fee  price_yearly_iptu  \n",
              "0         100   3000                      482                155  \n",
              "1          64   1800                      290                  0  \n",
              "2         118   2500                      750                  0  "
            ]
          },
          "metadata": {},
          "output_type": "display_data"
        }
      ],
      "source": [
        "dados_filtrados = dados.drop(columns=[\"id\",\"resource_id\",\"provider_id\",\"advertiser_id\",\"address_country\",\"address_state\",\"address_city\",\"title\",\"description\",\"unit_type\",\"amenities\",\"usable_area\",\"price_rental_total\",\"publication_type\",\"listing_status\",\"listing_type\",\"created_at\",\"updated_at\",\"raw_data\",\"scraped_at\",\"address_street_number\",\"address_unit_number\"])\n",
        "display(dados_filtrados.head(3))"
      ]
    },
    {
      "attachments": {},
      "cell_type": "markdown",
      "metadata": {
        "id": "ikoTb-5stImC"
      },
      "source": [
        "### <li><font color=\"#800080\">Ordenando os imóveis pelo bairro, pela rua e número de quartos:</font>"
      ]
    },
    {
      "cell_type": "code",
      "execution_count": 135,
      "metadata": {
        "colab": {
          "base_uri": "https://localhost:8080/",
          "height": 424
        },
        "id": "zyZbdWUL5Gnd",
        "outputId": "701b42f3-51a4-4f09-974c-a7eba43976fe"
      },
      "outputs": [
        {
          "data": {
            "text/html": [
              "<div>\n",
              "<style scoped>\n",
              "    .dataframe tbody tr th:only-of-type {\n",
              "        vertical-align: middle;\n",
              "    }\n",
              "\n",
              "    .dataframe tbody tr th {\n",
              "        vertical-align: top;\n",
              "    }\n",
              "\n",
              "    .dataframe thead th {\n",
              "        text-align: right;\n",
              "    }\n",
              "</style>\n",
              "<table border=\"1\" class=\"dataframe\">\n",
              "  <thead>\n",
              "    <tr style=\"text-align: right;\">\n",
              "      <th></th>\n",
              "      <th>address_neighborhood</th>\n",
              "      <th>address_street</th>\n",
              "      <th>address_zipcode</th>\n",
              "      <th>latitude</th>\n",
              "      <th>longitude</th>\n",
              "      <th>bathrooms</th>\n",
              "      <th>bedrooms</th>\n",
              "      <th>suites</th>\n",
              "      <th>parking_spaces</th>\n",
              "      <th>total_area</th>\n",
              "      <th>price</th>\n",
              "      <th>price_monthly_condo_fee</th>\n",
              "      <th>price_yearly_iptu</th>\n",
              "    </tr>\n",
              "  </thead>\n",
              "  <tbody>\n",
              "    <tr>\n",
              "      <th>55389</th>\n",
              "      <td>Alto da Ponte</td>\n",
              "      <td>Avenida Rui Barbosa</td>\n",
              "      <td>12212531.0</td>\n",
              "      <td>NaN</td>\n",
              "      <td>NaN</td>\n",
              "      <td>1</td>\n",
              "      <td>1</td>\n",
              "      <td>0</td>\n",
              "      <td>0.0</td>\n",
              "      <td>45</td>\n",
              "      <td>880</td>\n",
              "      <td>0</td>\n",
              "      <td>0</td>\n",
              "    </tr>\n",
              "    <tr>\n",
              "      <th>24752</th>\n",
              "      <td>Alto da Ponte</td>\n",
              "      <td>Praça Padre José Rúbens Franco Bonafe</td>\n",
              "      <td>12213900.0</td>\n",
              "      <td>NaN</td>\n",
              "      <td>NaN</td>\n",
              "      <td>1</td>\n",
              "      <td>2</td>\n",
              "      <td>0</td>\n",
              "      <td>1.0</td>\n",
              "      <td>62</td>\n",
              "      <td>1130</td>\n",
              "      <td>0</td>\n",
              "      <td>120</td>\n",
              "    </tr>\n",
              "    <tr>\n",
              "      <th>26841</th>\n",
              "      <td>Alto da Ponte</td>\n",
              "      <td>Praça Padre José Rúbens Franco Bonafe</td>\n",
              "      <td>12212510.0</td>\n",
              "      <td>NaN</td>\n",
              "      <td>NaN</td>\n",
              "      <td>1</td>\n",
              "      <td>2</td>\n",
              "      <td>0</td>\n",
              "      <td>1.0</td>\n",
              "      <td>62</td>\n",
              "      <td>900</td>\n",
              "      <td>400</td>\n",
              "      <td>43</td>\n",
              "    </tr>\n",
              "    <tr>\n",
              "      <th>60283</th>\n",
              "      <td>Alto da Ponte</td>\n",
              "      <td>Praça Padre José Rúbens Franco Bonafe</td>\n",
              "      <td>12212510.0</td>\n",
              "      <td>NaN</td>\n",
              "      <td>NaN</td>\n",
              "      <td>1</td>\n",
              "      <td>2</td>\n",
              "      <td>1</td>\n",
              "      <td>NaN</td>\n",
              "      <td>52</td>\n",
              "      <td>1100</td>\n",
              "      <td>0</td>\n",
              "      <td>0</td>\n",
              "    </tr>\n",
              "    <tr>\n",
              "      <th>5015</th>\n",
              "      <td>Alto da Ponte</td>\n",
              "      <td>NaN</td>\n",
              "      <td>12212510.0</td>\n",
              "      <td>NaN</td>\n",
              "      <td>NaN</td>\n",
              "      <td>1</td>\n",
              "      <td>2</td>\n",
              "      <td>0</td>\n",
              "      <td>1.0</td>\n",
              "      <td>54</td>\n",
              "      <td>600</td>\n",
              "      <td>373</td>\n",
              "      <td>0</td>\n",
              "    </tr>\n",
              "  </tbody>\n",
              "</table>\n",
              "</div>"
            ],
            "text/plain": [
              "      address_neighborhood                         address_street   \n",
              "55389        Alto da Ponte                    Avenida Rui Barbosa  \\\n",
              "24752        Alto da Ponte  Praça Padre José Rúbens Franco Bonafe   \n",
              "26841        Alto da Ponte  Praça Padre José Rúbens Franco Bonafe   \n",
              "60283        Alto da Ponte  Praça Padre José Rúbens Franco Bonafe   \n",
              "5015         Alto da Ponte                                    NaN   \n",
              "\n",
              "       address_zipcode  latitude  longitude  bathrooms  bedrooms  suites   \n",
              "55389       12212531.0       NaN        NaN          1         1       0  \\\n",
              "24752       12213900.0       NaN        NaN          1         2       0   \n",
              "26841       12212510.0       NaN        NaN          1         2       0   \n",
              "60283       12212510.0       NaN        NaN          1         2       1   \n",
              "5015        12212510.0       NaN        NaN          1         2       0   \n",
              "\n",
              "       parking_spaces  total_area  price  price_monthly_condo_fee   \n",
              "55389             0.0          45    880                        0  \\\n",
              "24752             1.0          62   1130                        0   \n",
              "26841             1.0          62    900                      400   \n",
              "60283             NaN          52   1100                        0   \n",
              "5015              1.0          54    600                      373   \n",
              "\n",
              "       price_yearly_iptu  \n",
              "55389                  0  \n",
              "24752                120  \n",
              "26841                 43  \n",
              "60283                  0  \n",
              "5015                   0  "
            ]
          },
          "metadata": {},
          "output_type": "display_data"
        }
      ],
      "source": [
        "dados_filt_ord = dados_filtrados.sort_values(['address_neighborhood','address_street','bedrooms'])\n",
        "display(dados_filt_ord.head())"
      ]
    },
    {
      "attachments": {},
      "cell_type": "markdown",
      "metadata": {},
      "source": [
        "<hr>"
      ]
    },
    {
      "attachments": {},
      "cell_type": "markdown",
      "metadata": {},
      "source": [
        "# <b>2) Entendimento, Organização e Limpeza dos Dados (Pré-Processamento)</b>"
      ]
    },
    {
      "attachments": {},
      "cell_type": "markdown",
      "metadata": {
        "id": "lm4VA6uaAvSC"
      },
      "source": [
        "### <li><font color=\"#800080\">Histograma para entender o nº de quartos dos imóveis na amostra:</font>"
      ]
    },
    {
      "cell_type": "code",
      "execution_count": 136,
      "metadata": {
        "colab": {
          "base_uri": "https://localhost:8080/",
          "height": 414
        },
        "id": "AhzwLdikA3fa",
        "outputId": "38a96206-eb1b-4d58-80a9-41c373de42c8"
      },
      "outputs": [
        {
          "data": {
            "image/png": "[encoded data removed]",
            "text/plain": [
              "<Figure size 1500x400 with 1 Axes>"
            ]
          },
          "metadata": {},
          "output_type": "display_data"
        }
      ],
      "source": [
        "quartos = dados_filt_ord['bedrooms']\n",
        "\n",
        "plt.figure(figsize=(15,4))\n",
        "plt.hist(quartos,rwidth=0.9 , bins = range(1,7,1))\n",
        "plt.title('Histograma Nº de Imóveis x Nº de Quartos', fontsize=16)\n",
        "plt.xlabel('Nº de Quartos')\n",
        "plt.ylabel('Quantidade de Imóveis')\n",
        "plt.show()\n"
      ]
    },
    {
      "attachments": {},
      "cell_type": "markdown",
      "metadata": {
        "id": "NpVOY6f3eWTv"
      },
      "source": [
        "### <li><font color=\"#800080\">Exibindo a quantidade de imóveis para cada número de quartos na amostra:</font>"
      ]
    },
    {
      "cell_type": "code",
      "execution_count": 137,
      "metadata": {
        "id": "eroYBDGxfSWt"
      },
      "outputs": [
        {
          "data": {
            "text/plain": [
              "array([ 1,  2,  3,  4,  5,  6,  7,  8,  9, 10, 16, 17, 19, 20],\n",
              "      dtype=int64)"
            ]
          },
          "execution_count": 137,
          "metadata": {},
          "output_type": "execute_result"
        }
      ],
      "source": [
        "# Mostra qual a quantidade de quartos nos imóveis do conjunto de dados.\n",
        "dados_bed = dados_filt_ord.sort_values(['bedrooms'])\n",
        "dados_bed['bedrooms'].unique() "
      ]
    },
    {
      "cell_type": "code",
      "execution_count": 138,
      "metadata": {
        "colab": {
          "base_uri": "https://localhost:8080/"
        },
        "id": "Gt0ApUz1e43e",
        "outputId": "f474e761-f7c5-4117-92c8-f36813d8906e"
      },
      "outputs": [
        {
          "data": {
            "text/plain": [
              "bedrooms\n",
              "2     29650\n",
              "3     18264\n",
              "1      6859\n",
              "4      5957\n",
              "5       210\n",
              "6        17\n",
              "10        4\n",
              "7         2\n",
              "8         1\n",
              "9         1\n",
              "16        1\n",
              "17        1\n",
              "19        1\n",
              "20        1\n",
              "Name: count, dtype: int64"
            ]
          },
          "execution_count": 138,
          "metadata": {},
          "output_type": "execute_result"
        }
      ],
      "source": [
        "# Mostra nº de quartos x nº de imóveis na amostra.\n",
        "dados_bed['bedrooms'].value_counts()"
      ]
    },
    {
      "attachments": {},
      "cell_type": "markdown",
      "metadata": {
        "id": "eHbCjmHegdw9"
      },
      "source": [
        "<font color=\"#800080\"><b>OBS.:</b> Nota-se que podemos desconsiderar imóveis com mais de 5 dormitórios por não serem em uma quantidade representativa no conjunto de dados.</font>"
      ]
    },
    {
      "attachments": {},
      "cell_type": "markdown",
      "metadata": {
        "id": "eKeLbeB09Gz6"
      },
      "source": [
        "### <li><font color=\"#800080\">Removendo os imóveis com mais de 5 quartos do dataframe:</font>"
      ]
    },
    {
      "cell_type": "code",
      "execution_count": 139,
      "metadata": {
        "colab": {
          "base_uri": "https://localhost:8080/"
        },
        "id": "nlzGoGya7SE3",
        "outputId": "39ec4e8e-f977-4051-8dbc-a041c1f33a99"
      },
      "outputs": [
        {
          "data": {
            "text/plain": [
              "bedrooms\n",
              "2    29650\n",
              "3    18264\n",
              "1     6859\n",
              "4     5957\n",
              "5      210\n",
              "Name: count, dtype: int64"
            ]
          },
          "execution_count": 139,
          "metadata": {},
          "output_type": "execute_result"
        }
      ],
      "source": [
        "filtro_bedrooms = dados_bed['bedrooms'] < 6\n",
        "dados_bed_filt = dados_bed[filtro_bedrooms]\n",
        "dados_bed_filt['bedrooms'].value_counts()"
      ]
    },
    {
      "attachments": {},
      "cell_type": "markdown",
      "metadata": {
        "id": "P4hIUL6hNoZ2"
      },
      "source": [
        "### <li><font color=\"#800080\">Contando a quantidade de imóveis em cada bairro:</font>"
      ]
    },
    {
      "cell_type": "code",
      "execution_count": 140,
      "metadata": {
        "colab": {
          "base_uri": "https://localhost:8080/"
        },
        "id": "h8GUOoD3Nu0G",
        "outputId": "4b5c571d-76f8-40a6-919c-e9d821c0b527"
      },
      "outputs": [
        {
          "data": {
            "text/plain": [
              "address_neighborhood\n",
              "Parque Residencial Aquarius     11990\n",
              "Vila Ema                         2920\n",
              "Jardim Esplanada                 2744\n",
              "Jardim Satélite                  2714\n",
              "Jardim das Indústrias            2649\n",
              "                                ...  \n",
              "Loteamento Villa Branca             1\n",
              "Loteamento Portal Santa Inês        1\n",
              "Parque Interlagos                   1\n",
              "Jardim America                      1\n",
              "Portal dos Passaros                 1\n",
              "Name: count, Length: 206, dtype: int64"
            ]
          },
          "execution_count": 140,
          "metadata": {},
          "output_type": "execute_result"
        }
      ],
      "source": [
        "dados_bairros = dados_bed_filt['address_neighborhood'].value_counts()\n",
        "dados_bairros"
      ]
    },
    {
      "attachments": {},
      "cell_type": "markdown",
      "metadata": {
        "id": "fwoBPt2n1FmU"
      },
      "source": [
        "<font color=\"#800080\"><b>OBS.:</b> Aparentemente, em alguns bairros não há amostras suficientes para concluir sobre o valor dos aluguéis.</font>"
      ]
    },
    {
      "attachments": {},
      "cell_type": "markdown",
      "metadata": {
        "id": "VgWxqUr-5kPB"
      },
      "source": [
        "### <li><font color=\"#800080\">Investigando quais bairros possuem menos de 10 amostras no dataframe:</font>"
      ]
    },
    {
      "cell_type": "code",
      "execution_count": 141,
      "metadata": {
        "colab": {
          "base_uri": "https://localhost:8080/"
        },
        "id": "jfS3MRYm1VF8",
        "outputId": "e47aa23d-e21e-4a17-bbbb-edb305d12b97"
      },
      "outputs": [
        {
          "data": {
            "text/plain": [
              "count\n",
              "True     129\n",
              "False     77\n",
              "Name: count, dtype: int64"
            ]
          },
          "execution_count": 141,
          "metadata": {},
          "output_type": "execute_result"
        }
      ],
      "source": [
        "filtro_bairros = dados_bed_filt['address_neighborhood'].value_counts() > 10\n",
        "filtro_bairros.value_counts()"
      ]
    },
    {
      "attachments": {},
      "cell_type": "markdown",
      "metadata": {
        "id": "2uu4yFFx9T12"
      },
      "source": [
        "<font color=\"#800080\"><b>OBS.:</b> Observa-se que 77 bairros possuem menos de 10 amostras no dataframe, restando 129 com 10 ou mais amostras.</font>"
      ]
    },
    {
      "cell_type": "code",
      "execution_count": 142,
      "metadata": {
        "colab": {
          "base_uri": "https://localhost:8080/"
        },
        "id": "7rwl-c0k7vQw",
        "outputId": "c5b49b70-f33a-4ba6-adfd-244aa2a62c8f"
      },
      "outputs": [
        {
          "data": {
            "text/plain": [
              "address_neighborhood\n",
              "Parque Residencial Aquarius      True\n",
              "Vila Ema                         True\n",
              "Jardim Esplanada                 True\n",
              "Jardim Satélite                  True\n",
              "Jardim das Indústrias            True\n",
              "                                ...  \n",
              "Loteamento Villa Branca         False\n",
              "Loteamento Portal Santa Inês    False\n",
              "Parque Interlagos               False\n",
              "Jardim America                  False\n",
              "Portal dos Passaros             False\n",
              "Name: count, Length: 206, dtype: bool"
            ]
          },
          "metadata": {},
          "output_type": "display_data"
        }
      ],
      "source": [
        "display(filtro_bairros)"
      ]
    },
    {
      "cell_type": "code",
      "execution_count": 143,
      "metadata": {
        "id": "16j17zINE6ue"
      },
      "outputs": [
        {
          "data": {
            "text/html": [
              "<div>\n",
              "<style scoped>\n",
              "    .dataframe tbody tr th:only-of-type {\n",
              "        vertical-align: middle;\n",
              "    }\n",
              "\n",
              "    .dataframe tbody tr th {\n",
              "        vertical-align: top;\n",
              "    }\n",
              "\n",
              "    .dataframe thead th {\n",
              "        text-align: right;\n",
              "    }\n",
              "</style>\n",
              "<table border=\"1\" class=\"dataframe\">\n",
              "  <thead>\n",
              "    <tr style=\"text-align: right;\">\n",
              "      <th></th>\n",
              "      <th>bairros</th>\n",
              "      <th>maior que 10</th>\n",
              "    </tr>\n",
              "  </thead>\n",
              "  <tbody>\n",
              "    <tr>\n",
              "      <th>156</th>\n",
              "      <td>Jardim Altos de Santana</td>\n",
              "      <td>False</td>\n",
              "    </tr>\n",
              "    <tr>\n",
              "      <th>157</th>\n",
              "      <td>Urbanova VII</td>\n",
              "      <td>False</td>\n",
              "    </tr>\n",
              "    <tr>\n",
              "      <th>158</th>\n",
              "      <td>Jardim Santa Maria</td>\n",
              "      <td>False</td>\n",
              "    </tr>\n",
              "    <tr>\n",
              "      <th>159</th>\n",
              "      <td>Loteamento Tom Jobim</td>\n",
              "      <td>False</td>\n",
              "    </tr>\n",
              "    <tr>\n",
              "      <th>160</th>\n",
              "      <td>Parque dos Ipês</td>\n",
              "      <td>False</td>\n",
              "    </tr>\n",
              "    <tr>\n",
              "      <th>161</th>\n",
              "      <td>Parque Martim Cererê</td>\n",
              "      <td>False</td>\n",
              "    </tr>\n",
              "    <tr>\n",
              "      <th>162</th>\n",
              "      <td>Vila Nova Conceição</td>\n",
              "      <td>False</td>\n",
              "    </tr>\n",
              "    <tr>\n",
              "      <th>163</th>\n",
              "      <td>Putim</td>\n",
              "      <td>False</td>\n",
              "    </tr>\n",
              "    <tr>\n",
              "      <th>164</th>\n",
              "      <td>Residencial São Francisco</td>\n",
              "      <td>False</td>\n",
              "    </tr>\n",
              "    <tr>\n",
              "      <th>165</th>\n",
              "      <td>Jardim Residencial Golden Park</td>\n",
              "      <td>False</td>\n",
              "    </tr>\n",
              "    <tr>\n",
              "      <th>166</th>\n",
              "      <td>Jardim Rosário</td>\n",
              "      <td>False</td>\n",
              "    </tr>\n",
              "    <tr>\n",
              "      <th>167</th>\n",
              "      <td>Condomínio Residencial Alphaville II</td>\n",
              "      <td>False</td>\n",
              "    </tr>\n",
              "    <tr>\n",
              "      <th>168</th>\n",
              "      <td>Urbanova III</td>\n",
              "      <td>False</td>\n",
              "    </tr>\n",
              "    <tr>\n",
              "      <th>169</th>\n",
              "      <td>Vila Monterrey</td>\n",
              "      <td>False</td>\n",
              "    </tr>\n",
              "    <tr>\n",
              "      <th>170</th>\n",
              "      <td>Eldorado</td>\n",
              "      <td>False</td>\n",
              "    </tr>\n",
              "    <tr>\n",
              "      <th>171</th>\n",
              "      <td>Condomínio Residencial Campo Belo</td>\n",
              "      <td>False</td>\n",
              "    </tr>\n",
              "    <tr>\n",
              "      <th>172</th>\n",
              "      <td>Urbanova IV-A</td>\n",
              "      <td>False</td>\n",
              "    </tr>\n",
              "    <tr>\n",
              "      <th>173</th>\n",
              "      <td>Jardim Minas Gerais</td>\n",
              "      <td>False</td>\n",
              "    </tr>\n",
              "    <tr>\n",
              "      <th>174</th>\n",
              "      <td>Chácara dos Coqueiros</td>\n",
              "      <td>False</td>\n",
              "    </tr>\n",
              "    <tr>\n",
              "      <th>175</th>\n",
              "      <td>Jardim Aquarius</td>\n",
              "      <td>False</td>\n",
              "    </tr>\n",
              "    <tr>\n",
              "      <th>176</th>\n",
              "      <td>Vila Ester</td>\n",
              "      <td>False</td>\n",
              "    </tr>\n",
              "    <tr>\n",
              "      <th>177</th>\n",
              "      <td>Jardim Mariana I</td>\n",
              "      <td>False</td>\n",
              "    </tr>\n",
              "    <tr>\n",
              "      <th>178</th>\n",
              "      <td>Jardim Olímpia</td>\n",
              "      <td>False</td>\n",
              "    </tr>\n",
              "    <tr>\n",
              "      <th>179</th>\n",
              "      <td>Condomínio Residencial Monte Carlo</td>\n",
              "      <td>False</td>\n",
              "    </tr>\n",
              "    <tr>\n",
              "      <th>180</th>\n",
              "      <td>Sapé I</td>\n",
              "      <td>False</td>\n",
              "    </tr>\n",
              "    <tr>\n",
              "      <th>181</th>\n",
              "      <td>Condomínio Residencial Floresta</td>\n",
              "      <td>False</td>\n",
              "    </tr>\n",
              "    <tr>\n",
              "      <th>182</th>\n",
              "      <td>Jardim Pararangaba</td>\n",
              "      <td>False</td>\n",
              "    </tr>\n",
              "    <tr>\n",
              "      <th>183</th>\n",
              "      <td>Condomínio Residencial Alphaville I</td>\n",
              "      <td>False</td>\n",
              "    </tr>\n",
              "    <tr>\n",
              "      <th>184</th>\n",
              "      <td>Loteamento Floresta</td>\n",
              "      <td>False</td>\n",
              "    </tr>\n",
              "    <tr>\n",
              "      <th>185</th>\n",
              "      <td>Jardim Rodolfo</td>\n",
              "      <td>False</td>\n",
              "    </tr>\n",
              "    <tr>\n",
              "      <th>186</th>\n",
              "      <td>Recanto dos Nobres</td>\n",
              "      <td>False</td>\n",
              "    </tr>\n",
              "    <tr>\n",
              "      <th>187</th>\n",
              "      <td>Residencial Gazzo</td>\n",
              "      <td>False</td>\n",
              "    </tr>\n",
              "    <tr>\n",
              "      <th>188</th>\n",
              "      <td>Jardim São Jorge</td>\n",
              "      <td>False</td>\n",
              "    </tr>\n",
              "    <tr>\n",
              "      <th>189</th>\n",
              "      <td>Vila Patrícia</td>\n",
              "      <td>False</td>\n",
              "    </tr>\n",
              "    <tr>\n",
              "      <th>190</th>\n",
              "      <td>Campo dos Alemães</td>\n",
              "      <td>False</td>\n",
              "    </tr>\n",
              "    <tr>\n",
              "      <th>191</th>\n",
              "      <td>Jardim Juliana</td>\n",
              "      <td>False</td>\n",
              "    </tr>\n",
              "    <tr>\n",
              "      <th>192</th>\n",
              "      <td>Jardim Sao Dimas</td>\n",
              "      <td>False</td>\n",
              "    </tr>\n",
              "    <tr>\n",
              "      <th>193</th>\n",
              "      <td>Condomínio Residencial Mont Blanc</td>\n",
              "      <td>False</td>\n",
              "    </tr>\n",
              "    <tr>\n",
              "      <th>194</th>\n",
              "      <td>Jardim da Granja</td>\n",
              "      <td>False</td>\n",
              "    </tr>\n",
              "    <tr>\n",
              "      <th>195</th>\n",
              "      <td>Jardim Vale Paraiso</td>\n",
              "      <td>False</td>\n",
              "    </tr>\n",
              "    <tr>\n",
              "      <th>196</th>\n",
              "      <td>Recanto dos Eucaliptos</td>\n",
              "      <td>False</td>\n",
              "    </tr>\n",
              "    <tr>\n",
              "      <th>197</th>\n",
              "      <td>Residencial Interlagos</td>\n",
              "      <td>False</td>\n",
              "    </tr>\n",
              "    <tr>\n",
              "      <th>198</th>\n",
              "      <td>Vila Machado</td>\n",
              "      <td>False</td>\n",
              "    </tr>\n",
              "    <tr>\n",
              "      <th>199</th>\n",
              "      <td>Setville Altos de São José</td>\n",
              "      <td>False</td>\n",
              "    </tr>\n",
              "    <tr>\n",
              "      <th>200</th>\n",
              "      <td>Área Rural de Caçapava</td>\n",
              "      <td>False</td>\n",
              "    </tr>\n",
              "    <tr>\n",
              "      <th>201</th>\n",
              "      <td>Loteamento Villa Branca</td>\n",
              "      <td>False</td>\n",
              "    </tr>\n",
              "    <tr>\n",
              "      <th>202</th>\n",
              "      <td>Loteamento Portal Santa Inês</td>\n",
              "      <td>False</td>\n",
              "    </tr>\n",
              "    <tr>\n",
              "      <th>203</th>\n",
              "      <td>Parque Interlagos</td>\n",
              "      <td>False</td>\n",
              "    </tr>\n",
              "    <tr>\n",
              "      <th>204</th>\n",
              "      <td>Jardim America</td>\n",
              "      <td>False</td>\n",
              "    </tr>\n",
              "    <tr>\n",
              "      <th>205</th>\n",
              "      <td>Portal dos Passaros</td>\n",
              "      <td>False</td>\n",
              "    </tr>\n",
              "  </tbody>\n",
              "</table>\n",
              "</div>"
            ],
            "text/plain": [
              "                                  bairros  maior que 10\n",
              "156               Jardim Altos de Santana         False\n",
              "157                          Urbanova VII         False\n",
              "158                    Jardim Santa Maria         False\n",
              "159                  Loteamento Tom Jobim         False\n",
              "160                       Parque dos Ipês         False\n",
              "161                  Parque Martim Cererê         False\n",
              "162                   Vila Nova Conceição         False\n",
              "163                                 Putim         False\n",
              "164             Residencial São Francisco         False\n",
              "165        Jardim Residencial Golden Park         False\n",
              "166                        Jardim Rosário         False\n",
              "167  Condomínio Residencial Alphaville II         False\n",
              "168                          Urbanova III         False\n",
              "169                        Vila Monterrey         False\n",
              "170                              Eldorado         False\n",
              "171     Condomínio Residencial Campo Belo         False\n",
              "172                         Urbanova IV-A         False\n",
              "173                   Jardim Minas Gerais         False\n",
              "174                 Chácara dos Coqueiros         False\n",
              "175                       Jardim Aquarius         False\n",
              "176                            Vila Ester         False\n",
              "177                      Jardim Mariana I         False\n",
              "178                        Jardim Olímpia         False\n",
              "179    Condomínio Residencial Monte Carlo         False\n",
              "180                                Sapé I         False\n",
              "181       Condomínio Residencial Floresta         False\n",
              "182                    Jardim Pararangaba         False\n",
              "183   Condomínio Residencial Alphaville I         False\n",
              "184                   Loteamento Floresta         False\n",
              "185                        Jardim Rodolfo         False\n",
              "186                    Recanto dos Nobres         False\n",
              "187                     Residencial Gazzo         False\n",
              "188                      Jardim São Jorge         False\n",
              "189                         Vila Patrícia         False\n",
              "190                     Campo dos Alemães         False\n",
              "191                        Jardim Juliana         False\n",
              "192                      Jardim Sao Dimas         False\n",
              "193     Condomínio Residencial Mont Blanc         False\n",
              "194                      Jardim da Granja         False\n",
              "195                   Jardim Vale Paraiso         False\n",
              "196                Recanto dos Eucaliptos         False\n",
              "197                Residencial Interlagos         False\n",
              "198                          Vila Machado         False\n",
              "199            Setville Altos de São José         False\n",
              "200                Área Rural de Caçapava         False\n",
              "201               Loteamento Villa Branca         False\n",
              "202          Loteamento Portal Santa Inês         False\n",
              "203                     Parque Interlagos         False\n",
              "204                        Jardim America         False\n",
              "205                   Portal dos Passaros         False"
            ]
          },
          "execution_count": 143,
          "metadata": {},
          "output_type": "execute_result"
        }
      ],
      "source": [
        "# Criando um dataframe com os dados sobre a quantidade de amostras > 10 (True) ou não (False).\n",
        "dados_bairros_filt = pd.DataFrame({\"maior que 10\":filtro_bairros})\n",
        "dados_bairros_filt['bairros'] = dados_bairros_filt.index\n",
        "\n",
        "# Exibindo os 50 últimos bairros com amostras em quantidade < 10.\n",
        "dados_bairros_filt.index = range(206)\n",
        "dados_bairros_filt = dados_bairros_filt[['bairros','maior que 10']]\n",
        "dados_bairros_filt.tail(50)"
      ]
    },
    {
      "attachments": {},
      "cell_type": "markdown",
      "metadata": {
        "id": "Z1D2VWK0338y"
      },
      "source": [
        "<font color=\"#800080\"><b>OBS.:</b> Nota-se que alguns bairros foram nomeados de formas diferentes, ocupando mais de uma linha, como por exemplo:\n",
        " *   Urbanova III, Urbanova IV e Condomínio Residencial Alphaville I = Urbanova;\n",
        " *   Jardim Aquarius = Parque Residencial Aquarius</font>"
      ]
    },
    {
      "cell_type": "code",
      "execution_count": 144,
      "metadata": {
        "colab": {
          "base_uri": "https://localhost:8080/",
          "height": 300
        },
        "id": "v6oRT3lHCtKl",
        "outputId": "3998b18d-6294-4ba8-ceee-3d43e9b6aaef"
      },
      "outputs": [
        {
          "data": {
            "text/html": [
              "<div>\n",
              "<style scoped>\n",
              "    .dataframe tbody tr th:only-of-type {\n",
              "        vertical-align: middle;\n",
              "    }\n",
              "\n",
              "    .dataframe tbody tr th {\n",
              "        vertical-align: top;\n",
              "    }\n",
              "\n",
              "    .dataframe thead th {\n",
              "        text-align: right;\n",
              "    }\n",
              "</style>\n",
              "<table border=\"1\" class=\"dataframe\">\n",
              "  <thead>\n",
              "    <tr style=\"text-align: right;\">\n",
              "      <th></th>\n",
              "      <th>bairros</th>\n",
              "      <th>maior que 10</th>\n",
              "    </tr>\n",
              "  </thead>\n",
              "  <tbody>\n",
              "    <tr>\n",
              "      <th>19</th>\n",
              "      <td>Urbanova</td>\n",
              "      <td>True</td>\n",
              "    </tr>\n",
              "    <tr>\n",
              "      <th>26</th>\n",
              "      <td>Urbanova V</td>\n",
              "      <td>True</td>\n",
              "    </tr>\n",
              "    <tr>\n",
              "      <th>44</th>\n",
              "      <td>Urbanova VI</td>\n",
              "      <td>True</td>\n",
              "    </tr>\n",
              "    <tr>\n",
              "      <th>45</th>\n",
              "      <td>Loteamento Urbanova II</td>\n",
              "      <td>True</td>\n",
              "    </tr>\n",
              "    <tr>\n",
              "      <th>78</th>\n",
              "      <td>Urbanova I</td>\n",
              "      <td>True</td>\n",
              "    </tr>\n",
              "    <tr>\n",
              "      <th>157</th>\n",
              "      <td>Urbanova VII</td>\n",
              "      <td>False</td>\n",
              "    </tr>\n",
              "    <tr>\n",
              "      <th>168</th>\n",
              "      <td>Urbanova III</td>\n",
              "      <td>False</td>\n",
              "    </tr>\n",
              "    <tr>\n",
              "      <th>172</th>\n",
              "      <td>Urbanova IV-A</td>\n",
              "      <td>False</td>\n",
              "    </tr>\n",
              "  </tbody>\n",
              "</table>\n",
              "</div>"
            ],
            "text/plain": [
              "                    bairros  maior que 10\n",
              "19                 Urbanova          True\n",
              "26               Urbanova V          True\n",
              "44              Urbanova VI          True\n",
              "45   Loteamento Urbanova II          True\n",
              "78               Urbanova I          True\n",
              "157            Urbanova VII         False\n",
              "168            Urbanova III         False\n",
              "172           Urbanova IV-A         False"
            ]
          },
          "metadata": {},
          "output_type": "display_data"
        }
      ],
      "source": [
        "# Exibindo as várias denominações para o bairro Urbanova na amostra. \n",
        "dados_bairros_filt2 = dados_bairros_filt[dados_bairros_filt['bairros'].str.contains('Urbanova')]\n",
        "display(dados_bairros_filt2)"
      ]
    },
    {
      "cell_type": "code",
      "execution_count": 145,
      "metadata": {
        "colab": {
          "base_uri": "https://localhost:8080/",
          "height": 112
        },
        "id": "XAsUrCRIEhpH",
        "outputId": "ab17bda3-9696-4228-c6c2-d2d1ece2a0c2"
      },
      "outputs": [
        {
          "data": {
            "text/html": [
              "<div>\n",
              "<style scoped>\n",
              "    .dataframe tbody tr th:only-of-type {\n",
              "        vertical-align: middle;\n",
              "    }\n",
              "\n",
              "    .dataframe tbody tr th {\n",
              "        vertical-align: top;\n",
              "    }\n",
              "\n",
              "    .dataframe thead th {\n",
              "        text-align: right;\n",
              "    }\n",
              "</style>\n",
              "<table border=\"1\" class=\"dataframe\">\n",
              "  <thead>\n",
              "    <tr style=\"text-align: right;\">\n",
              "      <th></th>\n",
              "      <th>bairros</th>\n",
              "      <th>maior que 10</th>\n",
              "    </tr>\n",
              "  </thead>\n",
              "  <tbody>\n",
              "    <tr>\n",
              "      <th>0</th>\n",
              "      <td>Parque Residencial Aquarius</td>\n",
              "      <td>True</td>\n",
              "    </tr>\n",
              "    <tr>\n",
              "      <th>175</th>\n",
              "      <td>Jardim Aquarius</td>\n",
              "      <td>False</td>\n",
              "    </tr>\n",
              "  </tbody>\n",
              "</table>\n",
              "</div>"
            ],
            "text/plain": [
              "                         bairros  maior que 10\n",
              "0    Parque Residencial Aquarius          True\n",
              "175              Jardim Aquarius         False"
            ]
          },
          "metadata": {},
          "output_type": "display_data"
        }
      ],
      "source": [
        "#Exibindo as denominações do bairro Parque Residencial Aquarius.\n",
        "dados_bairros_filt3 = dados_bairros_filt[dados_bairros_filt['bairros'].str.contains('Aquarius')]\n",
        "display(dados_bairros_filt3)"
      ]
    },
    {
      "attachments": {},
      "cell_type": "markdown",
      "metadata": {},
      "source": [
        "<font color=\"#800080\"><b>OBS.:</b> <u>Concluindo que não será possível utilizar os nomes dos bairros como parâmetros para ferramentas de Machine Learning, decidindo encontrar as coordenadas geográficas como parâmetros para melhor representar a localização de cada imóvel.</u></font>"
      ]
    },
    {
      "attachments": {},
      "cell_type": "markdown",
      "metadata": {},
      "source": [
        "### <li><font color=\"#800080\">Limpando Valores NaN e Atributos que não contribuirão para o Aprendizado de Máquina:</font>"
      ]
    },
    {
      "cell_type": "code",
      "execution_count": 146,
      "metadata": {},
      "outputs": [
        {
          "name": "stdout",
          "output_type": "stream",
          "text": [
            "<class 'pandas.core.frame.DataFrame'>\n",
            "Index: 60940 entries, 55389 to 21664\n",
            "Data columns (total 13 columns):\n",
            " #   Column                   Non-Null Count  Dtype  \n",
            "---  ------                   --------------  -----  \n",
            " 0   address_neighborhood     60937 non-null  object \n",
            " 1   address_street           30435 non-null  object \n",
            " 2   address_zipcode          60938 non-null  float64\n",
            " 3   latitude                 0 non-null      float64\n",
            " 4   longitude                0 non-null      float64\n",
            " 5   bathrooms                60940 non-null  int64  \n",
            " 6   bedrooms                 60940 non-null  int64  \n",
            " 7   suites                   60940 non-null  int64  \n",
            " 8   parking_spaces           59895 non-null  float64\n",
            " 9   total_area               60940 non-null  int64  \n",
            " 10  price                    60940 non-null  int64  \n",
            " 11  price_monthly_condo_fee  60940 non-null  int64  \n",
            " 12  price_yearly_iptu        60940 non-null  int64  \n",
            "dtypes: float64(4), int64(7), object(2)\n",
            "memory usage: 6.5+ MB\n"
          ]
        }
      ],
      "source": [
        "# Com a função info() abaixo, foi possível observar:\n",
        "# Há muitos valores NaN para os nomes de ruas. Logo, essa coluna poderá ser eliminada.\n",
        "# Há 1045 imóveis com valores NaN para o número de vagas de carro. Talvez possamos considerar como zero o número de vagas nesses casos, a investigar a seguir.\n",
        "# Há apenas 2 imóveis com NaN como valor de CEP. Caso haja nome da rua, poderemos inserir esses valores manualmente.\n",
        "dados_bed_filt.info()"
      ]
    },
    {
      "cell_type": "code",
      "execution_count": 147,
      "metadata": {},
      "outputs": [
        {
          "data": {
            "text/html": [
              "<div>\n",
              "<style scoped>\n",
              "    .dataframe tbody tr th:only-of-type {\n",
              "        vertical-align: middle;\n",
              "    }\n",
              "\n",
              "    .dataframe tbody tr th {\n",
              "        vertical-align: top;\n",
              "    }\n",
              "\n",
              "    .dataframe thead th {\n",
              "        text-align: right;\n",
              "    }\n",
              "</style>\n",
              "<table border=\"1\" class=\"dataframe\">\n",
              "  <thead>\n",
              "    <tr style=\"text-align: right;\">\n",
              "      <th></th>\n",
              "      <th>address_neighborhood</th>\n",
              "      <th>address_street</th>\n",
              "      <th>address_zipcode</th>\n",
              "      <th>latitude</th>\n",
              "      <th>longitude</th>\n",
              "      <th>bathrooms</th>\n",
              "      <th>bedrooms</th>\n",
              "      <th>suites</th>\n",
              "      <th>parking_spaces</th>\n",
              "      <th>total_area</th>\n",
              "      <th>price</th>\n",
              "      <th>price_monthly_condo_fee</th>\n",
              "      <th>price_yearly_iptu</th>\n",
              "    </tr>\n",
              "  </thead>\n",
              "  <tbody>\n",
              "    <tr>\n",
              "      <th>40533</th>\n",
              "      <td>Jardim Telespark</td>\n",
              "      <td>NaN</td>\n",
              "      <td>0.0</td>\n",
              "      <td>NaN</td>\n",
              "      <td>NaN</td>\n",
              "      <td>1</td>\n",
              "      <td>2</td>\n",
              "      <td>0</td>\n",
              "      <td>0.0</td>\n",
              "      <td>53</td>\n",
              "      <td>700</td>\n",
              "      <td>280</td>\n",
              "      <td>30</td>\n",
              "    </tr>\n",
              "    <tr>\n",
              "      <th>42264</th>\n",
              "      <td>Parque Industrial</td>\n",
              "      <td>Rua Teresina</td>\n",
              "      <td>0.0</td>\n",
              "      <td>NaN</td>\n",
              "      <td>NaN</td>\n",
              "      <td>2</td>\n",
              "      <td>2</td>\n",
              "      <td>1</td>\n",
              "      <td>1.0</td>\n",
              "      <td>65</td>\n",
              "      <td>1150</td>\n",
              "      <td>408</td>\n",
              "      <td>59</td>\n",
              "    </tr>\n",
              "    <tr>\n",
              "      <th>45781</th>\n",
              "      <td>Jardim Aquarius</td>\n",
              "      <td>NaN</td>\n",
              "      <td>0.0</td>\n",
              "      <td>NaN</td>\n",
              "      <td>NaN</td>\n",
              "      <td>3</td>\n",
              "      <td>3</td>\n",
              "      <td>3</td>\n",
              "      <td>2.0</td>\n",
              "      <td>96</td>\n",
              "      <td>3520</td>\n",
              "      <td>750</td>\n",
              "      <td>120</td>\n",
              "    </tr>\n",
              "    <tr>\n",
              "      <th>40283</th>\n",
              "      <td>Jardim Aquarius</td>\n",
              "      <td>NaN</td>\n",
              "      <td>0.0</td>\n",
              "      <td>NaN</td>\n",
              "      <td>NaN</td>\n",
              "      <td>1</td>\n",
              "      <td>3</td>\n",
              "      <td>0</td>\n",
              "      <td>2.0</td>\n",
              "      <td>90</td>\n",
              "      <td>1500</td>\n",
              "      <td>659</td>\n",
              "      <td>95</td>\n",
              "    </tr>\n",
              "  </tbody>\n",
              "</table>\n",
              "</div>"
            ],
            "text/plain": [
              "      address_neighborhood address_street  address_zipcode  latitude   \n",
              "40533     Jardim Telespark            NaN              0.0       NaN  \\\n",
              "42264    Parque Industrial   Rua Teresina              0.0       NaN   \n",
              "45781      Jardim Aquarius            NaN              0.0       NaN   \n",
              "40283      Jardim Aquarius            NaN              0.0       NaN   \n",
              "\n",
              "       longitude  bathrooms  bedrooms  suites  parking_spaces  total_area   \n",
              "40533        NaN          1         2       0             0.0          53  \\\n",
              "42264        NaN          2         2       1             1.0          65   \n",
              "45781        NaN          3         3       3             2.0          96   \n",
              "40283        NaN          1         3       0             2.0          90   \n",
              "\n",
              "       price  price_monthly_condo_fee  price_yearly_iptu  \n",
              "40533    700                      280                 30  \n",
              "42264   1150                      408                 59  \n",
              "45781   3520                      750                120  \n",
              "40283   1500                      659                 95  "
            ]
          },
          "metadata": {},
          "output_type": "display_data"
        },
        {
          "data": {
            "text/html": [
              "<div>\n",
              "<style scoped>\n",
              "    .dataframe tbody tr th:only-of-type {\n",
              "        vertical-align: middle;\n",
              "    }\n",
              "\n",
              "    .dataframe tbody tr th {\n",
              "        vertical-align: top;\n",
              "    }\n",
              "\n",
              "    .dataframe thead th {\n",
              "        text-align: right;\n",
              "    }\n",
              "</style>\n",
              "<table border=\"1\" class=\"dataframe\">\n",
              "  <thead>\n",
              "    <tr style=\"text-align: right;\">\n",
              "      <th></th>\n",
              "      <th>address_neighborhood</th>\n",
              "      <th>address_street</th>\n",
              "      <th>address_zipcode</th>\n",
              "      <th>latitude</th>\n",
              "      <th>longitude</th>\n",
              "      <th>bathrooms</th>\n",
              "      <th>bedrooms</th>\n",
              "      <th>suites</th>\n",
              "      <th>parking_spaces</th>\n",
              "      <th>total_area</th>\n",
              "      <th>price</th>\n",
              "      <th>price_monthly_condo_fee</th>\n",
              "      <th>price_yearly_iptu</th>\n",
              "    </tr>\n",
              "  </thead>\n",
              "  <tbody>\n",
              "    <tr>\n",
              "      <th>46407</th>\n",
              "      <td>Parque Industrial</td>\n",
              "      <td>Rua Icatu</td>\n",
              "      <td>NaN</td>\n",
              "      <td>NaN</td>\n",
              "      <td>NaN</td>\n",
              "      <td>2</td>\n",
              "      <td>2</td>\n",
              "      <td>1</td>\n",
              "      <td>NaN</td>\n",
              "      <td>68</td>\n",
              "      <td>1000</td>\n",
              "      <td>270</td>\n",
              "      <td>0</td>\n",
              "    </tr>\n",
              "    <tr>\n",
              "      <th>43812</th>\n",
              "      <td>NaN</td>\n",
              "      <td>NaN</td>\n",
              "      <td>NaN</td>\n",
              "      <td>NaN</td>\n",
              "      <td>NaN</td>\n",
              "      <td>2</td>\n",
              "      <td>3</td>\n",
              "      <td>1</td>\n",
              "      <td>2.0</td>\n",
              "      <td>70</td>\n",
              "      <td>1650</td>\n",
              "      <td>585</td>\n",
              "      <td>0</td>\n",
              "    </tr>\n",
              "  </tbody>\n",
              "</table>\n",
              "</div>"
            ],
            "text/plain": [
              "      address_neighborhood address_street  address_zipcode  latitude   \n",
              "46407    Parque Industrial      Rua Icatu              NaN       NaN  \\\n",
              "43812                  NaN            NaN              NaN       NaN   \n",
              "\n",
              "       longitude  bathrooms  bedrooms  suites  parking_spaces  total_area   \n",
              "46407        NaN          2         2       1             NaN          68  \\\n",
              "43812        NaN          2         3       1             2.0          70   \n",
              "\n",
              "       price  price_monthly_condo_fee  price_yearly_iptu  \n",
              "46407   1000                      270                  0  \n",
              "43812   1650                      585                  0  "
            ]
          },
          "metadata": {},
          "output_type": "display_data"
        },
        {
          "data": {
            "text/plain": [
              "address_neighborhood           3\n",
              "address_street             30505\n",
              "address_zipcode                2\n",
              "latitude                   60940\n",
              "longitude                  60940\n",
              "bathrooms                      0\n",
              "bedrooms                       0\n",
              "suites                         0\n",
              "parking_spaces              1045\n",
              "total_area                     0\n",
              "price                          0\n",
              "price_monthly_condo_fee        0\n",
              "price_yearly_iptu              0\n",
              "dtype: int64"
            ]
          },
          "execution_count": 147,
          "metadata": {},
          "output_type": "execute_result"
        }
      ],
      "source": [
        "# Exibindo as linhas com valores de CEP nulos ou NaN.\n",
        "display(dados_bed_filt[dados_bed_filt['address_zipcode'] == 0])\n",
        "display(dados_bed_filt[dados_bed_filt['address_zipcode'].isnull()])\n",
        "# Exibindo a quantidade de NaN para cada coluna.\n",
        "dados_bed_filt.isnull().sum()"
      ]
    },
    {
      "attachments": {},
      "cell_type": "markdown",
      "metadata": {},
      "source": [
        "<font color=\"#800080\"><b>OBS.:</b>\n",
        "     <li>Foi possível encontrar os CEPs das Ruas Icatu e Teresina no Parque Industrial, 12237-010 e 12235-610, respectivamente.\n",
        "     <li>As linhas 40533, 45781 e 40283, como não tem nome das ruas, não será possível encontrar o CEP e as coordenadas geográficas, portanto iremos eliminá-las.\n",
        "     <li>Nota-se que podemos eliminar a linha 43812, pois não há nenhuma informação de endereço ou CEP.</font>"
      ]
    },
    {
      "cell_type": "code",
      "execution_count": null,
      "metadata": {},
      "outputs": [],
      "source": [
        "# Inserindo os CEPs descobertos.\n",
        "dados_bed_filt.loc[42264,'address_zipcode'] = 12235610\n",
        "dados_bed_filt.loc[46407,'address_zipcode'] = 12237010\n",
        "# Eliminando as linhas sem nome de rua nem CEP.\n",
        "dados_bed_filt.drop([40283,40533,43812,45781],inplace = True)"
      ]
    },
    {
      "cell_type": "code",
      "execution_count": 149,
      "metadata": {},
      "outputs": [
        {
          "name": "stdout",
          "output_type": "stream",
          "text": [
            "<class 'pandas.core.frame.DataFrame'>\n",
            "Index: 60936 entries, 55389 to 21664\n",
            "Data columns (total 13 columns):\n",
            " #   Column                   Non-Null Count  Dtype  \n",
            "---  ------                   --------------  -----  \n",
            " 0   address_neighborhood     60934 non-null  object \n",
            " 1   address_street           30435 non-null  object \n",
            " 2   address_zipcode          60936 non-null  float64\n",
            " 3   latitude                 0 non-null      float64\n",
            " 4   longitude                0 non-null      float64\n",
            " 5   bathrooms                60936 non-null  int64  \n",
            " 6   bedrooms                 60936 non-null  int64  \n",
            " 7   suites                   60936 non-null  int64  \n",
            " 8   parking_spaces           59891 non-null  float64\n",
            " 9   total_area               60936 non-null  int64  \n",
            " 10  price                    60936 non-null  int64  \n",
            " 11  price_monthly_condo_fee  60936 non-null  int64  \n",
            " 12  price_yearly_iptu        60936 non-null  int64  \n",
            "dtypes: float64(4), int64(7), object(2)\n",
            "memory usage: 6.5+ MB\n"
          ]
        }
      ],
      "source": [
        "# Nota-se que agora todas as linhas possuem CEP.\n",
        "dados_bed_filt.info()"
      ]
    },
    {
      "attachments": {},
      "cell_type": "markdown",
      "metadata": {},
      "source": [
        "<font color=\"#800080\"><b>OBS.:</b> Como todas as linhas possuem CEP, podemos eliminar as colunas com nome de rua e nome do bairro que não irão influir no algoritmo de Machine Learning.</font>"
      ]
    },
    {
      "cell_type": "code",
      "execution_count": null,
      "metadata": {},
      "outputs": [],
      "source": [
        "dados_bed_filt.drop(columns=['address_neighborhood','address_street'],inplace = True)"
      ]
    },
    {
      "cell_type": "code",
      "execution_count": 151,
      "metadata": {},
      "outputs": [
        {
          "data": {
            "text/html": [
              "<div>\n",
              "<style scoped>\n",
              "    .dataframe tbody tr th:only-of-type {\n",
              "        vertical-align: middle;\n",
              "    }\n",
              "\n",
              "    .dataframe tbody tr th {\n",
              "        vertical-align: top;\n",
              "    }\n",
              "\n",
              "    .dataframe thead th {\n",
              "        text-align: right;\n",
              "    }\n",
              "</style>\n",
              "<table border=\"1\" class=\"dataframe\">\n",
              "  <thead>\n",
              "    <tr style=\"text-align: right;\">\n",
              "      <th></th>\n",
              "      <th>address_zipcode</th>\n",
              "      <th>latitude</th>\n",
              "      <th>longitude</th>\n",
              "      <th>bathrooms</th>\n",
              "      <th>bedrooms</th>\n",
              "      <th>suites</th>\n",
              "      <th>parking_spaces</th>\n",
              "      <th>total_area</th>\n",
              "      <th>price</th>\n",
              "      <th>price_monthly_condo_fee</th>\n",
              "      <th>price_yearly_iptu</th>\n",
              "    </tr>\n",
              "  </thead>\n",
              "  <tbody>\n",
              "    <tr>\n",
              "      <th>12225</th>\n",
              "      <td>12242840.0</td>\n",
              "      <td>NaN</td>\n",
              "      <td>NaN</td>\n",
              "      <td>1</td>\n",
              "      <td>1</td>\n",
              "      <td>0</td>\n",
              "      <td>NaN</td>\n",
              "      <td>40</td>\n",
              "      <td>2000</td>\n",
              "      <td>0</td>\n",
              "      <td>0</td>\n",
              "    </tr>\n",
              "    <tr>\n",
              "      <th>15081</th>\n",
              "      <td>12242840.0</td>\n",
              "      <td>NaN</td>\n",
              "      <td>NaN</td>\n",
              "      <td>1</td>\n",
              "      <td>1</td>\n",
              "      <td>0</td>\n",
              "      <td>NaN</td>\n",
              "      <td>40</td>\n",
              "      <td>2000</td>\n",
              "      <td>0</td>\n",
              "      <td>0</td>\n",
              "    </tr>\n",
              "    <tr>\n",
              "      <th>2993</th>\n",
              "      <td>12242840.0</td>\n",
              "      <td>NaN</td>\n",
              "      <td>NaN</td>\n",
              "      <td>1</td>\n",
              "      <td>1</td>\n",
              "      <td>0</td>\n",
              "      <td>NaN</td>\n",
              "      <td>47</td>\n",
              "      <td>1800</td>\n",
              "      <td>450</td>\n",
              "      <td>40</td>\n",
              "    </tr>\n",
              "    <tr>\n",
              "      <th>18474</th>\n",
              "      <td>12243590.0</td>\n",
              "      <td>NaN</td>\n",
              "      <td>NaN</td>\n",
              "      <td>1</td>\n",
              "      <td>1</td>\n",
              "      <td>1</td>\n",
              "      <td>NaN</td>\n",
              "      <td>33</td>\n",
              "      <td>1600</td>\n",
              "      <td>100</td>\n",
              "      <td>0</td>\n",
              "    </tr>\n",
              "    <tr>\n",
              "      <th>27856</th>\n",
              "      <td>12243590.0</td>\n",
              "      <td>NaN</td>\n",
              "      <td>NaN</td>\n",
              "      <td>1</td>\n",
              "      <td>1</td>\n",
              "      <td>1</td>\n",
              "      <td>NaN</td>\n",
              "      <td>33</td>\n",
              "      <td>1600</td>\n",
              "      <td>100</td>\n",
              "      <td>0</td>\n",
              "    </tr>\n",
              "    <tr>\n",
              "      <th>...</th>\n",
              "      <td>...</td>\n",
              "      <td>...</td>\n",
              "      <td>...</td>\n",
              "      <td>...</td>\n",
              "      <td>...</td>\n",
              "      <td>...</td>\n",
              "      <td>...</td>\n",
              "      <td>...</td>\n",
              "      <td>...</td>\n",
              "      <td>...</td>\n",
              "      <td>...</td>\n",
              "    </tr>\n",
              "    <tr>\n",
              "      <th>4512</th>\n",
              "      <td>12240710.0</td>\n",
              "      <td>NaN</td>\n",
              "      <td>NaN</td>\n",
              "      <td>3</td>\n",
              "      <td>4</td>\n",
              "      <td>1</td>\n",
              "      <td>NaN</td>\n",
              "      <td>0</td>\n",
              "      <td>5700</td>\n",
              "      <td>0</td>\n",
              "      <td>78</td>\n",
              "    </tr>\n",
              "    <tr>\n",
              "      <th>17638</th>\n",
              "      <td>12246140.0</td>\n",
              "      <td>NaN</td>\n",
              "      <td>NaN</td>\n",
              "      <td>3</td>\n",
              "      <td>4</td>\n",
              "      <td>3</td>\n",
              "      <td>NaN</td>\n",
              "      <td>192</td>\n",
              "      <td>7500</td>\n",
              "      <td>1090</td>\n",
              "      <td>0</td>\n",
              "    </tr>\n",
              "    <tr>\n",
              "      <th>9925</th>\n",
              "      <td>12242000.0</td>\n",
              "      <td>NaN</td>\n",
              "      <td>NaN</td>\n",
              "      <td>6</td>\n",
              "      <td>4</td>\n",
              "      <td>4</td>\n",
              "      <td>NaN</td>\n",
              "      <td>248</td>\n",
              "      <td>8500</td>\n",
              "      <td>0</td>\n",
              "      <td>0</td>\n",
              "    </tr>\n",
              "    <tr>\n",
              "      <th>6627</th>\n",
              "      <td>12242000.0</td>\n",
              "      <td>NaN</td>\n",
              "      <td>NaN</td>\n",
              "      <td>6</td>\n",
              "      <td>4</td>\n",
              "      <td>4</td>\n",
              "      <td>NaN</td>\n",
              "      <td>248</td>\n",
              "      <td>8500</td>\n",
              "      <td>0</td>\n",
              "      <td>0</td>\n",
              "    </tr>\n",
              "    <tr>\n",
              "      <th>48884</th>\n",
              "      <td>12246060.0</td>\n",
              "      <td>NaN</td>\n",
              "      <td>NaN</td>\n",
              "      <td>5</td>\n",
              "      <td>5</td>\n",
              "      <td>3</td>\n",
              "      <td>NaN</td>\n",
              "      <td>0</td>\n",
              "      <td>6000</td>\n",
              "      <td>1400</td>\n",
              "      <td>0</td>\n",
              "    </tr>\n",
              "  </tbody>\n",
              "</table>\n",
              "<p>1045 rows × 11 columns</p>\n",
              "</div>"
            ],
            "text/plain": [
              "       address_zipcode  latitude  longitude  bathrooms  bedrooms  suites   \n",
              "12225       12242840.0       NaN        NaN          1         1       0  \\\n",
              "15081       12242840.0       NaN        NaN          1         1       0   \n",
              "2993        12242840.0       NaN        NaN          1         1       0   \n",
              "18474       12243590.0       NaN        NaN          1         1       1   \n",
              "27856       12243590.0       NaN        NaN          1         1       1   \n",
              "...                ...       ...        ...        ...       ...     ...   \n",
              "4512        12240710.0       NaN        NaN          3         4       1   \n",
              "17638       12246140.0       NaN        NaN          3         4       3   \n",
              "9925        12242000.0       NaN        NaN          6         4       4   \n",
              "6627        12242000.0       NaN        NaN          6         4       4   \n",
              "48884       12246060.0       NaN        NaN          5         5       3   \n",
              "\n",
              "       parking_spaces  total_area  price  price_monthly_condo_fee   \n",
              "12225             NaN          40   2000                        0  \\\n",
              "15081             NaN          40   2000                        0   \n",
              "2993              NaN          47   1800                      450   \n",
              "18474             NaN          33   1600                      100   \n",
              "27856             NaN          33   1600                      100   \n",
              "...               ...         ...    ...                      ...   \n",
              "4512              NaN           0   5700                        0   \n",
              "17638             NaN         192   7500                     1090   \n",
              "9925              NaN         248   8500                        0   \n",
              "6627              NaN         248   8500                        0   \n",
              "48884             NaN           0   6000                     1400   \n",
              "\n",
              "       price_yearly_iptu  \n",
              "12225                  0  \n",
              "15081                  0  \n",
              "2993                  40  \n",
              "18474                  0  \n",
              "27856                  0  \n",
              "...                  ...  \n",
              "4512                  78  \n",
              "17638                  0  \n",
              "9925                   0  \n",
              "6627                   0  \n",
              "48884                  0  \n",
              "\n",
              "[1045 rows x 11 columns]"
            ]
          },
          "execution_count": 151,
          "metadata": {},
          "output_type": "execute_result"
        }
      ],
      "source": [
        "dados_bed_filt[dados_bed_filt['parking_spaces'].isnull()]"
      ]
    },
    {
      "attachments": {},
      "cell_type": "markdown",
      "metadata": {},
      "source": [
        "<font color=\"#800080\"><b>OBS.:</b> Observa-se que não há informação sobre número de vagas de garagem mesmo para apartamentos maiores que certamente têm vagas disponíveis. Logo, deve-se eliminar as linhas com NaN no número de vagas, pois implica em eliminar apenas 1,7% dos dados da amostra.</font>"
      ]
    },
    {
      "cell_type": "code",
      "execution_count": 152,
      "metadata": {},
      "outputs": [
        {
          "name": "stdout",
          "output_type": "stream",
          "text": [
            "<class 'pandas.core.frame.DataFrame'>\n",
            "Index: 59891 entries, 55389 to 21664\n",
            "Data columns (total 11 columns):\n",
            " #   Column                   Non-Null Count  Dtype  \n",
            "---  ------                   --------------  -----  \n",
            " 0   address_zipcode          59891 non-null  float64\n",
            " 1   latitude                 0 non-null      float64\n",
            " 2   longitude                0 non-null      float64\n",
            " 3   bathrooms                59891 non-null  int64  \n",
            " 4   bedrooms                 59891 non-null  int64  \n",
            " 5   suites                   59891 non-null  int64  \n",
            " 6   parking_spaces           59891 non-null  float64\n",
            " 7   total_area               59891 non-null  int64  \n",
            " 8   price                    59891 non-null  int64  \n",
            " 9   price_monthly_condo_fee  59891 non-null  int64  \n",
            " 10  price_yearly_iptu        59891 non-null  int64  \n",
            "dtypes: float64(4), int64(7)\n",
            "memory usage: 5.5 MB\n"
          ]
        }
      ],
      "source": [
        "dados_bed_filt = dados_bed_filt.dropna(subset = ['parking_spaces'])\n",
        "dados_bed_filt.info()"
      ]
    },
    {
      "attachments": {},
      "cell_type": "markdown",
      "metadata": {
        "id": "ZRsdQxyoczNv"
      },
      "source": [
        "### <li><font color=\"#800080\">Importando dataframe com relação CEPs x Latitude e Longitude:</font>"
      ]
    },
    {
      "cell_type": "code",
      "execution_count": 153,
      "metadata": {
        "colab": {
          "base_uri": "https://localhost:8080/",
          "height": 765
        },
        "id": "imNi-Zc2NfMS",
        "outputId": "2a6545b4-7626-4f43-f643-59945d84470b"
      },
      "outputs": [
        {
          "data": {
            "text/html": [
              "<div>\n",
              "<style scoped>\n",
              "    .dataframe tbody tr th:only-of-type {\n",
              "        vertical-align: middle;\n",
              "    }\n",
              "\n",
              "    .dataframe tbody tr th {\n",
              "        vertical-align: top;\n",
              "    }\n",
              "\n",
              "    .dataframe thead th {\n",
              "        text-align: right;\n",
              "    }\n",
              "</style>\n",
              "<table border=\"1\" class=\"dataframe\">\n",
              "  <thead>\n",
              "    <tr style=\"text-align: right;\">\n",
              "      <th></th>\n",
              "      <th>cep</th>\n",
              "      <th>tipo</th>\n",
              "      <th>nome_logradouro</th>\n",
              "      <th>logradouro</th>\n",
              "      <th>bairro</th>\n",
              "      <th>cidade</th>\n",
              "      <th>estado</th>\n",
              "      <th>complemento</th>\n",
              "      <th>grandes_usuarios</th>\n",
              "      <th>tipo_sem_acento</th>\n",
              "      <th>nome_logradouro_sem_acento</th>\n",
              "      <th>logradouro_sem_acento</th>\n",
              "      <th>bairro_sem_acento</th>\n",
              "      <th>cidade_sem_acento</th>\n",
              "      <th>complemento_sem_acento</th>\n",
              "      <th>grandes_usuarios_sem_acento</th>\n",
              "      <th>latitude</th>\n",
              "      <th>longitude</th>\n",
              "      <th>cidade_ibge</th>\n",
              "      <th>cidade_area</th>\n",
              "      <th>ddd</th>\n",
              "      <th>cep_ativo</th>\n",
              "    </tr>\n",
              "  </thead>\n",
              "  <tbody>\n",
              "    <tr>\n",
              "      <th>0</th>\n",
              "      <td>1001000</td>\n",
              "      <td>Praça</td>\n",
              "      <td>da Sé</td>\n",
              "      <td>Praça da Sé</td>\n",
              "      <td>Sé</td>\n",
              "      <td>São Paulo</td>\n",
              "      <td>SP</td>\n",
              "      <td>lado ímpar</td>\n",
              "      <td>NaN</td>\n",
              "      <td>Praca</td>\n",
              "      <td>da Se</td>\n",
              "      <td>Praca da Se</td>\n",
              "      <td>Se</td>\n",
              "      <td>Sao Paulo</td>\n",
              "      <td>lado impar</td>\n",
              "      <td>NaN</td>\n",
              "      <td>-23.550278</td>\n",
              "      <td>-46.634218</td>\n",
              "      <td>3550308</td>\n",
              "      <td>1521.11</td>\n",
              "      <td>11</td>\n",
              "      <td>S</td>\n",
              "    </tr>\n",
              "    <tr>\n",
              "      <th>1</th>\n",
              "      <td>1001001</td>\n",
              "      <td>Praça</td>\n",
              "      <td>da Sé</td>\n",
              "      <td>Praça da Sé</td>\n",
              "      <td>Sé</td>\n",
              "      <td>São Paulo</td>\n",
              "      <td>SP</td>\n",
              "      <td>lado par</td>\n",
              "      <td>NaN</td>\n",
              "      <td>Praca</td>\n",
              "      <td>da Se</td>\n",
              "      <td>Praca da Se</td>\n",
              "      <td>Se</td>\n",
              "      <td>Sao Paulo</td>\n",
              "      <td>lado par</td>\n",
              "      <td>NaN</td>\n",
              "      <td>-23.549865</td>\n",
              "      <td>-46.634020</td>\n",
              "      <td>3550308</td>\n",
              "      <td>1521.11</td>\n",
              "      <td>11</td>\n",
              "      <td>S</td>\n",
              "    </tr>\n",
              "    <tr>\n",
              "      <th>2</th>\n",
              "      <td>1001010</td>\n",
              "      <td>Rua</td>\n",
              "      <td>Filipe de Oliveira</td>\n",
              "      <td>Rua Filipe de Oliveira</td>\n",
              "      <td>Sé</td>\n",
              "      <td>São Paulo</td>\n",
              "      <td>SP</td>\n",
              "      <td>NaN</td>\n",
              "      <td>NaN</td>\n",
              "      <td>Rua</td>\n",
              "      <td>Filipe de Oliveira</td>\n",
              "      <td>Rua Filipe de Oliveira</td>\n",
              "      <td>Se</td>\n",
              "      <td>Sao Paulo</td>\n",
              "      <td>NaN</td>\n",
              "      <td>NaN</td>\n",
              "      <td>-23.551479</td>\n",
              "      <td>-46.633272</td>\n",
              "      <td>3550308</td>\n",
              "      <td>1521.11</td>\n",
              "      <td>11</td>\n",
              "      <td>S</td>\n",
              "    </tr>\n",
              "    <tr>\n",
              "      <th>3</th>\n",
              "      <td>1001900</td>\n",
              "      <td>Praça</td>\n",
              "      <td>da Sé, 108</td>\n",
              "      <td>Praça da Sé, 108</td>\n",
              "      <td>Sé</td>\n",
              "      <td>São Paulo</td>\n",
              "      <td>SP</td>\n",
              "      <td>NaN</td>\n",
              "      <td>UNESP - Universidade Estadual Júlio de Mesquit...</td>\n",
              "      <td>Praca</td>\n",
              "      <td>da Se, 108</td>\n",
              "      <td>Praca da Se, 108</td>\n",
              "      <td>Se</td>\n",
              "      <td>Sao Paulo</td>\n",
              "      <td>NaN</td>\n",
              "      <td>UNESP - Universidade Estadual Julio de Mesquit...</td>\n",
              "      <td>-23.549896</td>\n",
              "      <td>-46.634378</td>\n",
              "      <td>3550308</td>\n",
              "      <td>1521.11</td>\n",
              "      <td>11</td>\n",
              "      <td>S</td>\n",
              "    </tr>\n",
              "    <tr>\n",
              "      <th>4</th>\n",
              "      <td>1001901</td>\n",
              "      <td>Praça</td>\n",
              "      <td>da Sé, 371</td>\n",
              "      <td>Praça da Sé, 371</td>\n",
              "      <td>Sé</td>\n",
              "      <td>São Paulo</td>\n",
              "      <td>SP</td>\n",
              "      <td>NaN</td>\n",
              "      <td>Edifício Santa Lídia</td>\n",
              "      <td>Praca</td>\n",
              "      <td>da Se, 371</td>\n",
              "      <td>Praca da Se, 371</td>\n",
              "      <td>Se</td>\n",
              "      <td>Sao Paulo</td>\n",
              "      <td>NaN</td>\n",
              "      <td>Edificio Santa Lidia</td>\n",
              "      <td>-23.551829</td>\n",
              "      <td>-46.634234</td>\n",
              "      <td>3550308</td>\n",
              "      <td>1521.11</td>\n",
              "      <td>11</td>\n",
              "      <td>S</td>\n",
              "    </tr>\n",
              "  </tbody>\n",
              "</table>\n",
              "</div>"
            ],
            "text/plain": [
              "       cep   tipo     nome_logradouro              logradouro bairro   \n",
              "0  1001000  Praça               da Sé             Praça da Sé     Sé  \\\n",
              "1  1001001  Praça               da Sé             Praça da Sé     Sé   \n",
              "2  1001010    Rua  Filipe de Oliveira  Rua Filipe de Oliveira     Sé   \n",
              "3  1001900  Praça          da Sé, 108        Praça da Sé, 108     Sé   \n",
              "4  1001901  Praça          da Sé, 371        Praça da Sé, 371     Sé   \n",
              "\n",
              "      cidade estado complemento   \n",
              "0  São Paulo     SP  lado ímpar  \\\n",
              "1  São Paulo     SP    lado par   \n",
              "2  São Paulo     SP         NaN   \n",
              "3  São Paulo     SP         NaN   \n",
              "4  São Paulo     SP         NaN   \n",
              "\n",
              "                                    grandes_usuarios tipo_sem_acento   \n",
              "0                                                NaN           Praca  \\\n",
              "1                                                NaN           Praca   \n",
              "2                                                NaN             Rua   \n",
              "3  UNESP - Universidade Estadual Júlio de Mesquit...           Praca   \n",
              "4                               Edifício Santa Lídia           Praca   \n",
              "\n",
              "  nome_logradouro_sem_acento   logradouro_sem_acento bairro_sem_acento   \n",
              "0                      da Se             Praca da Se                Se  \\\n",
              "1                      da Se             Praca da Se                Se   \n",
              "2         Filipe de Oliveira  Rua Filipe de Oliveira                Se   \n",
              "3                 da Se, 108        Praca da Se, 108                Se   \n",
              "4                 da Se, 371        Praca da Se, 371                Se   \n",
              "\n",
              "  cidade_sem_acento complemento_sem_acento   \n",
              "0         Sao Paulo             lado impar  \\\n",
              "1         Sao Paulo               lado par   \n",
              "2         Sao Paulo                    NaN   \n",
              "3         Sao Paulo                    NaN   \n",
              "4         Sao Paulo                    NaN   \n",
              "\n",
              "                         grandes_usuarios_sem_acento   latitude  longitude   \n",
              "0                                                NaN -23.550278 -46.634218  \\\n",
              "1                                                NaN -23.549865 -46.634020   \n",
              "2                                                NaN -23.551479 -46.633272   \n",
              "3  UNESP - Universidade Estadual Julio de Mesquit... -23.549896 -46.634378   \n",
              "4                               Edificio Santa Lidia -23.551829 -46.634234   \n",
              "\n",
              "   cidade_ibge  cidade_area  ddd cep_ativo  \n",
              "0      3550308      1521.11   11         S  \n",
              "1      3550308      1521.11   11         S  \n",
              "2      3550308      1521.11   11         S  \n",
              "3      3550308      1521.11   11         S  \n",
              "4      3550308      1521.11   11         S  "
            ]
          },
          "metadata": {},
          "output_type": "display_data"
        }
      ],
      "source": [
        "# Dados de CEPs x ruas x latitude e longitude fornecidos pelo IBGE e obtidos no site Kaggle: \n",
        "url_cep2018 = pd.read_csv('https://github.com/fabiollg/PI-4_Predicao_Valores_Imoveis_SJC/raw/main/dados/ceps_coord_2018.zip', compression='zip',encoding='latin')\n",
        "display(url_cep2018.head())"
      ]
    },
    {
      "attachments": {},
      "cell_type": "markdown",
      "metadata": {
        "id": "6St705HUdeMu"
      },
      "source": [
        "### <li><font color=\"#800080\">Extraindo apenas os CEPs de São José dos Campos e Eliminando colunas desnecessárias:</font>"
      ]
    },
    {
      "cell_type": "code",
      "execution_count": 154,
      "metadata": {
        "id": "X38cM4PVO3o_"
      },
      "outputs": [],
      "source": [
        "#código IBGE de São José dos Campos = 3549904\n",
        "filtro_ceps = url_cep2018['cidade_ibge'] == 3549904\n",
        "url_cep2018 = url_cep2018[filtro_ceps]\n",
        "url_cep2018_filt = url_cep2018[['cep','latitude','longitude']]"
      ]
    },
    {
      "cell_type": "code",
      "execution_count": 155,
      "metadata": {
        "colab": {
          "base_uri": "https://localhost:8080/",
          "height": 1000
        },
        "id": "szBL-EOMQep1",
        "outputId": "ca7a8b56-07bb-4bbd-b31d-b042d88c89fd"
      },
      "outputs": [
        {
          "data": {
            "text/html": [
              "<div>\n",
              "<style scoped>\n",
              "    .dataframe tbody tr th:only-of-type {\n",
              "        vertical-align: middle;\n",
              "    }\n",
              "\n",
              "    .dataframe tbody tr th {\n",
              "        vertical-align: top;\n",
              "    }\n",
              "\n",
              "    .dataframe thead th {\n",
              "        text-align: right;\n",
              "    }\n",
              "</style>\n",
              "<table border=\"1\" class=\"dataframe\">\n",
              "  <thead>\n",
              "    <tr style=\"text-align: right;\">\n",
              "      <th></th>\n",
              "      <th>cep</th>\n",
              "      <th>latitude</th>\n",
              "      <th>longitude</th>\n",
              "    </tr>\n",
              "  </thead>\n",
              "  <tbody>\n",
              "    <tr>\n",
              "      <th>127622</th>\n",
              "      <td>12209000</td>\n",
              "      <td>-23.178073</td>\n",
              "      <td>-45.888701</td>\n",
              "    </tr>\n",
              "    <tr>\n",
              "      <th>127623</th>\n",
              "      <td>12209002</td>\n",
              "      <td>-23.177065</td>\n",
              "      <td>-45.886526</td>\n",
              "    </tr>\n",
              "    <tr>\n",
              "      <th>127624</th>\n",
              "      <td>12209003</td>\n",
              "      <td>-23.178079</td>\n",
              "      <td>-45.885866</td>\n",
              "    </tr>\n",
              "    <tr>\n",
              "      <th>127625</th>\n",
              "      <td>12209004</td>\n",
              "      <td>-23.177203</td>\n",
              "      <td>-45.885419</td>\n",
              "    </tr>\n",
              "    <tr>\n",
              "      <th>127626</th>\n",
              "      <td>12209005</td>\n",
              "      <td>-23.179309</td>\n",
              "      <td>-45.886465</td>\n",
              "    </tr>\n",
              "    <tr>\n",
              "      <th>...</th>\n",
              "      <td>...</td>\n",
              "      <td>...</td>\n",
              "      <td>...</td>\n",
              "    </tr>\n",
              "    <tr>\n",
              "      <th>132781</th>\n",
              "      <td>12248712</td>\n",
              "      <td>-23.167663</td>\n",
              "      <td>-45.787973</td>\n",
              "    </tr>\n",
              "    <tr>\n",
              "      <th>132782</th>\n",
              "      <td>12248899</td>\n",
              "      <td>-23.150912</td>\n",
              "      <td>-45.904347</td>\n",
              "    </tr>\n",
              "    <tr>\n",
              "      <th>132783</th>\n",
              "      <td>12249000</td>\n",
              "      <td>-23.223701</td>\n",
              "      <td>-45.900907</td>\n",
              "    </tr>\n",
              "    <tr>\n",
              "      <th>132784</th>\n",
              "      <td>12249970</td>\n",
              "      <td>-22.912452</td>\n",
              "      <td>-45.960219</td>\n",
              "    </tr>\n",
              "    <tr>\n",
              "      <th>132785</th>\n",
              "      <td>12249990</td>\n",
              "      <td>-22.908728</td>\n",
              "      <td>-45.962309</td>\n",
              "    </tr>\n",
              "  </tbody>\n",
              "</table>\n",
              "<p>5164 rows × 3 columns</p>\n",
              "</div>"
            ],
            "text/plain": [
              "             cep   latitude  longitude\n",
              "127622  12209000 -23.178073 -45.888701\n",
              "127623  12209002 -23.177065 -45.886526\n",
              "127624  12209003 -23.178079 -45.885866\n",
              "127625  12209004 -23.177203 -45.885419\n",
              "127626  12209005 -23.179309 -45.886465\n",
              "...          ...        ...        ...\n",
              "132781  12248712 -23.167663 -45.787973\n",
              "132782  12248899 -23.150912 -45.904347\n",
              "132783  12249000 -23.223701 -45.900907\n",
              "132784  12249970 -22.912452 -45.960219\n",
              "132785  12249990 -22.908728 -45.962309\n",
              "\n",
              "[5164 rows x 3 columns]"
            ]
          },
          "metadata": {},
          "output_type": "display_data"
        },
        {
          "name": "stdout",
          "output_type": "stream",
          "text": [
            "<class 'pandas.core.frame.DataFrame'>\n",
            "Index: 5164 entries, 127622 to 132785\n",
            "Data columns (total 3 columns):\n",
            " #   Column     Non-Null Count  Dtype  \n",
            "---  ------     --------------  -----  \n",
            " 0   cep        5164 non-null   int64  \n",
            " 1   latitude   5164 non-null   float64\n",
            " 2   longitude  5164 non-null   float64\n",
            "dtypes: float64(2), int64(1)\n",
            "memory usage: 161.4 KB\n"
          ]
        }
      ],
      "source": [
        "# Exibindo a relação entre todos os CEPs de SJC e suas respectivas latitude e longitude.\n",
        "display(url_cep2018_filt)\n",
        "url_cep2018_filt.info()"
      ]
    },
    {
      "attachments": {},
      "cell_type": "markdown",
      "metadata": {},
      "source": [
        "### <li><font color=\"#800080\">Adicionando os valores das coordenadas geográficas no dataframe dos imóveis:</font>"
      ]
    },
    {
      "cell_type": "code",
      "execution_count": 156,
      "metadata": {
        "id": "6VCJCRz2dmpZ"
      },
      "outputs": [],
      "source": [
        "#Convertendo os ceps para Int64 na base de dados dos imóveis para ficarem de mesmo tipo da base de dados de ceps.\n",
        "#Convertendo também as vagas de garagem para Inteiros.\n",
        "dados_bed_filt['address_zipcode'] = dados_bed_filt['address_zipcode'].convert_dtypes()\n",
        "dados_bed_filt['parking_spaces'] = dados_bed_filt['parking_spaces'].convert_dtypes()"
      ]
    },
    {
      "cell_type": "code",
      "execution_count": 157,
      "metadata": {
        "colab": {
          "base_uri": "https://localhost:8080/"
        },
        "id": "lFnKDSDJebRC",
        "outputId": "d6b62a47-38a6-41a8-ca6b-8e3b663cc9cf"
      },
      "outputs": [
        {
          "name": "stdout",
          "output_type": "stream",
          "text": [
            "<class 'pandas.core.frame.DataFrame'>\n",
            "Index: 59891 entries, 55389 to 21664\n",
            "Data columns (total 11 columns):\n",
            " #   Column                   Non-Null Count  Dtype  \n",
            "---  ------                   --------------  -----  \n",
            " 0   address_zipcode          59891 non-null  Int64  \n",
            " 1   latitude                 0 non-null      float64\n",
            " 2   longitude                0 non-null      float64\n",
            " 3   bathrooms                59891 non-null  int64  \n",
            " 4   bedrooms                 59891 non-null  int64  \n",
            " 5   suites                   59891 non-null  int64  \n",
            " 6   parking_spaces           59891 non-null  Int64  \n",
            " 7   total_area               59891 non-null  int64  \n",
            " 8   price                    59891 non-null  int64  \n",
            " 9   price_monthly_condo_fee  59891 non-null  int64  \n",
            " 10  price_yearly_iptu        59891 non-null  int64  \n",
            "dtypes: Int64(2), float64(2), int64(7)\n",
            "memory usage: 5.6 MB\n"
          ]
        }
      ],
      "source": [
        "dados_bed_filt.info()"
      ]
    },
    {
      "cell_type": "code",
      "execution_count": 158,
      "metadata": {},
      "outputs": [],
      "source": [
        "# Efetuar merge com CEPs.\n",
        "dados_bed_filt = dados_bed_filt.merge(url_cep2018_filt, how = 'left', left_on = 'address_zipcode', right_on = 'cep')"
      ]
    },
    {
      "cell_type": "code",
      "execution_count": 159,
      "metadata": {},
      "outputs": [
        {
          "data": {
            "text/html": [
              "<div>\n",
              "<style scoped>\n",
              "    .dataframe tbody tr th:only-of-type {\n",
              "        vertical-align: middle;\n",
              "    }\n",
              "\n",
              "    .dataframe tbody tr th {\n",
              "        vertical-align: top;\n",
              "    }\n",
              "\n",
              "    .dataframe thead th {\n",
              "        text-align: right;\n",
              "    }\n",
              "</style>\n",
              "<table border=\"1\" class=\"dataframe\">\n",
              "  <thead>\n",
              "    <tr style=\"text-align: right;\">\n",
              "      <th></th>\n",
              "      <th>address_zipcode</th>\n",
              "      <th>latitude_x</th>\n",
              "      <th>longitude_x</th>\n",
              "      <th>bathrooms</th>\n",
              "      <th>bedrooms</th>\n",
              "      <th>suites</th>\n",
              "      <th>parking_spaces</th>\n",
              "      <th>total_area</th>\n",
              "      <th>price</th>\n",
              "      <th>price_monthly_condo_fee</th>\n",
              "      <th>price_yearly_iptu</th>\n",
              "      <th>cep</th>\n",
              "      <th>latitude_y</th>\n",
              "      <th>longitude_y</th>\n",
              "    </tr>\n",
              "  </thead>\n",
              "  <tbody>\n",
              "    <tr>\n",
              "      <th>0</th>\n",
              "      <td>12212531</td>\n",
              "      <td>NaN</td>\n",
              "      <td>NaN</td>\n",
              "      <td>1</td>\n",
              "      <td>1</td>\n",
              "      <td>0</td>\n",
              "      <td>0</td>\n",
              "      <td>45</td>\n",
              "      <td>880</td>\n",
              "      <td>0</td>\n",
              "      <td>0</td>\n",
              "      <td>12212531.0</td>\n",
              "      <td>-23.150556</td>\n",
              "      <td>-45.904873</td>\n",
              "    </tr>\n",
              "    <tr>\n",
              "      <th>1</th>\n",
              "      <td>12242840</td>\n",
              "      <td>NaN</td>\n",
              "      <td>NaN</td>\n",
              "      <td>1</td>\n",
              "      <td>1</td>\n",
              "      <td>0</td>\n",
              "      <td>2</td>\n",
              "      <td>58</td>\n",
              "      <td>1450</td>\n",
              "      <td>680</td>\n",
              "      <td>50</td>\n",
              "      <td>12242840.0</td>\n",
              "      <td>-23.198656</td>\n",
              "      <td>-45.899806</td>\n",
              "    </tr>\n",
              "    <tr>\n",
              "      <th>2</th>\n",
              "      <td>12242840</td>\n",
              "      <td>NaN</td>\n",
              "      <td>NaN</td>\n",
              "      <td>1</td>\n",
              "      <td>1</td>\n",
              "      <td>0</td>\n",
              "      <td>2</td>\n",
              "      <td>40</td>\n",
              "      <td>1300</td>\n",
              "      <td>600</td>\n",
              "      <td>55</td>\n",
              "      <td>12242840.0</td>\n",
              "      <td>-23.198656</td>\n",
              "      <td>-45.899806</td>\n",
              "    </tr>\n",
              "    <tr>\n",
              "      <th>3</th>\n",
              "      <td>12242840</td>\n",
              "      <td>NaN</td>\n",
              "      <td>NaN</td>\n",
              "      <td>1</td>\n",
              "      <td>1</td>\n",
              "      <td>0</td>\n",
              "      <td>1</td>\n",
              "      <td>48</td>\n",
              "      <td>1100</td>\n",
              "      <td>625</td>\n",
              "      <td>0</td>\n",
              "      <td>12242840.0</td>\n",
              "      <td>-23.198656</td>\n",
              "      <td>-45.899806</td>\n",
              "    </tr>\n",
              "    <tr>\n",
              "      <th>4</th>\n",
              "      <td>12242840</td>\n",
              "      <td>NaN</td>\n",
              "      <td>NaN</td>\n",
              "      <td>1</td>\n",
              "      <td>1</td>\n",
              "      <td>0</td>\n",
              "      <td>1</td>\n",
              "      <td>50</td>\n",
              "      <td>1300</td>\n",
              "      <td>563</td>\n",
              "      <td>0</td>\n",
              "      <td>12242840.0</td>\n",
              "      <td>-23.198656</td>\n",
              "      <td>-45.899806</td>\n",
              "    </tr>\n",
              "    <tr>\n",
              "      <th>...</th>\n",
              "      <td>...</td>\n",
              "      <td>...</td>\n",
              "      <td>...</td>\n",
              "      <td>...</td>\n",
              "      <td>...</td>\n",
              "      <td>...</td>\n",
              "      <td>...</td>\n",
              "      <td>...</td>\n",
              "      <td>...</td>\n",
              "      <td>...</td>\n",
              "      <td>...</td>\n",
              "      <td>...</td>\n",
              "      <td>...</td>\n",
              "      <td>...</td>\n",
              "    </tr>\n",
              "    <tr>\n",
              "      <th>59886</th>\n",
              "      <td>12245500</td>\n",
              "      <td>NaN</td>\n",
              "      <td>NaN</td>\n",
              "      <td>2</td>\n",
              "      <td>5</td>\n",
              "      <td>2</td>\n",
              "      <td>2</td>\n",
              "      <td>99</td>\n",
              "      <td>2900</td>\n",
              "      <td>600</td>\n",
              "      <td>0</td>\n",
              "      <td>12245500.0</td>\n",
              "      <td>-23.204227</td>\n",
              "      <td>-45.885531</td>\n",
              "    </tr>\n",
              "    <tr>\n",
              "      <th>59887</th>\n",
              "      <td>12233002</td>\n",
              "      <td>NaN</td>\n",
              "      <td>NaN</td>\n",
              "      <td>4</td>\n",
              "      <td>5</td>\n",
              "      <td>2</td>\n",
              "      <td>3</td>\n",
              "      <td>0</td>\n",
              "      <td>3500</td>\n",
              "      <td>1390</td>\n",
              "      <td>254</td>\n",
              "      <td>12233002.0</td>\n",
              "      <td>-23.251533</td>\n",
              "      <td>-45.885733</td>\n",
              "    </tr>\n",
              "    <tr>\n",
              "      <th>59888</th>\n",
              "      <td>12242270</td>\n",
              "      <td>NaN</td>\n",
              "      <td>NaN</td>\n",
              "      <td>5</td>\n",
              "      <td>5</td>\n",
              "      <td>2</td>\n",
              "      <td>6</td>\n",
              "      <td>2500</td>\n",
              "      <td>40000</td>\n",
              "      <td>0</td>\n",
              "      <td>0</td>\n",
              "      <td>12242270.0</td>\n",
              "      <td>-23.192424</td>\n",
              "      <td>-45.898719</td>\n",
              "    </tr>\n",
              "    <tr>\n",
              "      <th>59889</th>\n",
              "      <td>12233002</td>\n",
              "      <td>NaN</td>\n",
              "      <td>NaN</td>\n",
              "      <td>4</td>\n",
              "      <td>5</td>\n",
              "      <td>2</td>\n",
              "      <td>3</td>\n",
              "      <td>0</td>\n",
              "      <td>3500</td>\n",
              "      <td>1390</td>\n",
              "      <td>254</td>\n",
              "      <td>12233002.0</td>\n",
              "      <td>-23.251533</td>\n",
              "      <td>-45.885733</td>\n",
              "    </tr>\n",
              "    <tr>\n",
              "      <th>59890</th>\n",
              "      <td>12233900</td>\n",
              "      <td>NaN</td>\n",
              "      <td>NaN</td>\n",
              "      <td>5</td>\n",
              "      <td>5</td>\n",
              "      <td>5</td>\n",
              "      <td>3</td>\n",
              "      <td>500</td>\n",
              "      <td>8000</td>\n",
              "      <td>1900</td>\n",
              "      <td>730</td>\n",
              "      <td>12233900.0</td>\n",
              "      <td>-23.241990</td>\n",
              "      <td>-45.881724</td>\n",
              "    </tr>\n",
              "  </tbody>\n",
              "</table>\n",
              "<p>59891 rows × 14 columns</p>\n",
              "</div>"
            ],
            "text/plain": [
              "       address_zipcode  latitude_x  longitude_x  bathrooms  bedrooms  suites   \n",
              "0             12212531         NaN          NaN          1         1       0  \\\n",
              "1             12242840         NaN          NaN          1         1       0   \n",
              "2             12242840         NaN          NaN          1         1       0   \n",
              "3             12242840         NaN          NaN          1         1       0   \n",
              "4             12242840         NaN          NaN          1         1       0   \n",
              "...                ...         ...          ...        ...       ...     ...   \n",
              "59886         12245500         NaN          NaN          2         5       2   \n",
              "59887         12233002         NaN          NaN          4         5       2   \n",
              "59888         12242270         NaN          NaN          5         5       2   \n",
              "59889         12233002         NaN          NaN          4         5       2   \n",
              "59890         12233900         NaN          NaN          5         5       5   \n",
              "\n",
              "       parking_spaces  total_area  price  price_monthly_condo_fee   \n",
              "0                   0          45    880                        0  \\\n",
              "1                   2          58   1450                      680   \n",
              "2                   2          40   1300                      600   \n",
              "3                   1          48   1100                      625   \n",
              "4                   1          50   1300                      563   \n",
              "...               ...         ...    ...                      ...   \n",
              "59886               2          99   2900                      600   \n",
              "59887               3           0   3500                     1390   \n",
              "59888               6        2500  40000                        0   \n",
              "59889               3           0   3500                     1390   \n",
              "59890               3         500   8000                     1900   \n",
              "\n",
              "       price_yearly_iptu         cep  latitude_y  longitude_y  \n",
              "0                      0  12212531.0  -23.150556   -45.904873  \n",
              "1                     50  12242840.0  -23.198656   -45.899806  \n",
              "2                     55  12242840.0  -23.198656   -45.899806  \n",
              "3                      0  12242840.0  -23.198656   -45.899806  \n",
              "4                      0  12242840.0  -23.198656   -45.899806  \n",
              "...                  ...         ...         ...          ...  \n",
              "59886                  0  12245500.0  -23.204227   -45.885531  \n",
              "59887                254  12233002.0  -23.251533   -45.885733  \n",
              "59888                  0  12242270.0  -23.192424   -45.898719  \n",
              "59889                254  12233002.0  -23.251533   -45.885733  \n",
              "59890                730  12233900.0  -23.241990   -45.881724  \n",
              "\n",
              "[59891 rows x 14 columns]"
            ]
          },
          "metadata": {},
          "output_type": "display_data"
        }
      ],
      "source": [
        "display(dados_bed_filt)"
      ]
    },
    {
      "attachments": {},
      "cell_type": "markdown",
      "metadata": {},
      "source": [
        "### <li><font color=\"#800080\">Eliminando Colunas ou Linhas que não serão Úteis:</font>"
      ]
    },
    {
      "cell_type": "code",
      "execution_count": 160,
      "metadata": {},
      "outputs": [],
      "source": [
        "dados_bed_filt.drop(columns=['latitude_x','longitude_x','cep'],inplace=True)"
      ]
    },
    {
      "cell_type": "code",
      "execution_count": 161,
      "metadata": {},
      "outputs": [
        {
          "data": {
            "text/html": [
              "<div>\n",
              "<style scoped>\n",
              "    .dataframe tbody tr th:only-of-type {\n",
              "        vertical-align: middle;\n",
              "    }\n",
              "\n",
              "    .dataframe tbody tr th {\n",
              "        vertical-align: top;\n",
              "    }\n",
              "\n",
              "    .dataframe thead th {\n",
              "        text-align: right;\n",
              "    }\n",
              "</style>\n",
              "<table border=\"1\" class=\"dataframe\">\n",
              "  <thead>\n",
              "    <tr style=\"text-align: right;\">\n",
              "      <th></th>\n",
              "      <th>cep</th>\n",
              "      <th>banheiros</th>\n",
              "      <th>bedrooms</th>\n",
              "      <th>suites</th>\n",
              "      <th>vagas_garagem</th>\n",
              "      <th>total_area</th>\n",
              "      <th>aluguel</th>\n",
              "      <th>condominio</th>\n",
              "      <th>iptu</th>\n",
              "      <th>latitude</th>\n",
              "      <th>longitude</th>\n",
              "    </tr>\n",
              "  </thead>\n",
              "  <tbody>\n",
              "    <tr>\n",
              "      <th>0</th>\n",
              "      <td>12212531</td>\n",
              "      <td>1</td>\n",
              "      <td>1</td>\n",
              "      <td>0</td>\n",
              "      <td>0</td>\n",
              "      <td>45</td>\n",
              "      <td>880</td>\n",
              "      <td>0</td>\n",
              "      <td>0</td>\n",
              "      <td>-23.150556</td>\n",
              "      <td>-45.904873</td>\n",
              "    </tr>\n",
              "    <tr>\n",
              "      <th>1</th>\n",
              "      <td>12242840</td>\n",
              "      <td>1</td>\n",
              "      <td>1</td>\n",
              "      <td>0</td>\n",
              "      <td>2</td>\n",
              "      <td>58</td>\n",
              "      <td>1450</td>\n",
              "      <td>680</td>\n",
              "      <td>50</td>\n",
              "      <td>-23.198656</td>\n",
              "      <td>-45.899806</td>\n",
              "    </tr>\n",
              "    <tr>\n",
              "      <th>2</th>\n",
              "      <td>12242840</td>\n",
              "      <td>1</td>\n",
              "      <td>1</td>\n",
              "      <td>0</td>\n",
              "      <td>2</td>\n",
              "      <td>40</td>\n",
              "      <td>1300</td>\n",
              "      <td>600</td>\n",
              "      <td>55</td>\n",
              "      <td>-23.198656</td>\n",
              "      <td>-45.899806</td>\n",
              "    </tr>\n",
              "    <tr>\n",
              "      <th>3</th>\n",
              "      <td>12242840</td>\n",
              "      <td>1</td>\n",
              "      <td>1</td>\n",
              "      <td>0</td>\n",
              "      <td>1</td>\n",
              "      <td>48</td>\n",
              "      <td>1100</td>\n",
              "      <td>625</td>\n",
              "      <td>0</td>\n",
              "      <td>-23.198656</td>\n",
              "      <td>-45.899806</td>\n",
              "    </tr>\n",
              "    <tr>\n",
              "      <th>4</th>\n",
              "      <td>12242840</td>\n",
              "      <td>1</td>\n",
              "      <td>1</td>\n",
              "      <td>0</td>\n",
              "      <td>1</td>\n",
              "      <td>50</td>\n",
              "      <td>1300</td>\n",
              "      <td>563</td>\n",
              "      <td>0</td>\n",
              "      <td>-23.198656</td>\n",
              "      <td>-45.899806</td>\n",
              "    </tr>\n",
              "  </tbody>\n",
              "</table>\n",
              "</div>"
            ],
            "text/plain": [
              "        cep  banheiros  bedrooms  suites  vagas_garagem  total_area  aluguel   \n",
              "0  12212531          1         1       0              0          45      880  \\\n",
              "1  12242840          1         1       0              2          58     1450   \n",
              "2  12242840          1         1       0              2          40     1300   \n",
              "3  12242840          1         1       0              1          48     1100   \n",
              "4  12242840          1         1       0              1          50     1300   \n",
              "\n",
              "   condominio  iptu   latitude  longitude  \n",
              "0           0     0 -23.150556 -45.904873  \n",
              "1         680    50 -23.198656 -45.899806  \n",
              "2         600    55 -23.198656 -45.899806  \n",
              "3         625     0 -23.198656 -45.899806  \n",
              "4         563     0 -23.198656 -45.899806  "
            ]
          },
          "metadata": {},
          "output_type": "display_data"
        },
        {
          "data": {
            "text/plain": [
              "(59891, 11)"
            ]
          },
          "metadata": {},
          "output_type": "display_data"
        },
        {
          "data": {
            "text/plain": [
              "(11282, 11)"
            ]
          },
          "metadata": {},
          "output_type": "display_data"
        },
        {
          "data": {
            "text/plain": [
              "(19043, 11)"
            ]
          },
          "metadata": {},
          "output_type": "display_data"
        }
      ],
      "source": [
        "# Renomeando as colunas\n",
        "dados_bed_filt.rename(columns={'address_zipcode': 'cep', 'bathrooms': 'banheiros', 'parking_spaces': 'vagas_garagem', 'price': 'aluguel', 'price_monthly_condo_fee': 'condominio', 'price_yearly_iptu': 'iptu', 'latitude_y': 'latitude', 'longitude_y':'longitude'},inplace=True)\n",
        "display(dados_bed_filt.head())\n",
        "display(dados_bed_filt.shape)\n",
        "# Mostrando quantas linhas possuem zero como valor da área do imóvel\n",
        "display(dados_bed_filt[dados_bed_filt['total_area'] == 0].shape)\n",
        "# Mostrando quantas linhas possuem zero como valor do IPTU do imóvel\n",
        "display(dados_bed_filt[dados_bed_filt['iptu'] == 0].shape)"
      ]
    },
    {
      "attachments": {},
      "cell_type": "markdown",
      "metadata": {},
      "source": [
        "<font color=\"#800080\"><b>OBS.:</b>\n",
        "- Observamos mais de 11 mil linhas com valor zero da área e mais de 19 mil com valor zero para o IPTU. Sabemos que, principalmente os valores da área do imóvel, são determinantes para a determinação do valor dos seus aluguéis. Logo, não podemos manter esses valores nulos como dados de entrada para um algoritmo de aprendizado de máquina.\n",
        "- O valor do IPTU é dependente da área do imóvel e de sua localização geográfica, logo podemos dispensar a utilização da coluna IPTU, evitando ter que eliminar as 19 mil linhas nulas.</font>"
      ]
    },
    {
      "cell_type": "code",
      "execution_count": 162,
      "metadata": {},
      "outputs": [
        {
          "data": {
            "text/html": [
              "<div>\n",
              "<style scoped>\n",
              "    .dataframe tbody tr th:only-of-type {\n",
              "        vertical-align: middle;\n",
              "    }\n",
              "\n",
              "    .dataframe tbody tr th {\n",
              "        vertical-align: top;\n",
              "    }\n",
              "\n",
              "    .dataframe thead th {\n",
              "        text-align: right;\n",
              "    }\n",
              "</style>\n",
              "<table border=\"1\" class=\"dataframe\">\n",
              "  <thead>\n",
              "    <tr style=\"text-align: right;\">\n",
              "      <th></th>\n",
              "      <th>cep</th>\n",
              "      <th>banheiros</th>\n",
              "      <th>bedrooms</th>\n",
              "      <th>suites</th>\n",
              "      <th>vagas_garagem</th>\n",
              "      <th>total_area</th>\n",
              "      <th>aluguel</th>\n",
              "      <th>condominio</th>\n",
              "      <th>latitude</th>\n",
              "      <th>longitude</th>\n",
              "    </tr>\n",
              "  </thead>\n",
              "  <tbody>\n",
              "    <tr>\n",
              "      <th>0</th>\n",
              "      <td>12212531</td>\n",
              "      <td>1</td>\n",
              "      <td>1</td>\n",
              "      <td>0</td>\n",
              "      <td>0</td>\n",
              "      <td>45</td>\n",
              "      <td>880</td>\n",
              "      <td>0</td>\n",
              "      <td>-23.150556</td>\n",
              "      <td>-45.904873</td>\n",
              "    </tr>\n",
              "    <tr>\n",
              "      <th>1</th>\n",
              "      <td>12242840</td>\n",
              "      <td>1</td>\n",
              "      <td>1</td>\n",
              "      <td>0</td>\n",
              "      <td>2</td>\n",
              "      <td>58</td>\n",
              "      <td>1450</td>\n",
              "      <td>680</td>\n",
              "      <td>-23.198656</td>\n",
              "      <td>-45.899806</td>\n",
              "    </tr>\n",
              "    <tr>\n",
              "      <th>2</th>\n",
              "      <td>12242840</td>\n",
              "      <td>1</td>\n",
              "      <td>1</td>\n",
              "      <td>0</td>\n",
              "      <td>2</td>\n",
              "      <td>40</td>\n",
              "      <td>1300</td>\n",
              "      <td>600</td>\n",
              "      <td>-23.198656</td>\n",
              "      <td>-45.899806</td>\n",
              "    </tr>\n",
              "    <tr>\n",
              "      <th>3</th>\n",
              "      <td>12242840</td>\n",
              "      <td>1</td>\n",
              "      <td>1</td>\n",
              "      <td>0</td>\n",
              "      <td>1</td>\n",
              "      <td>48</td>\n",
              "      <td>1100</td>\n",
              "      <td>625</td>\n",
              "      <td>-23.198656</td>\n",
              "      <td>-45.899806</td>\n",
              "    </tr>\n",
              "    <tr>\n",
              "      <th>4</th>\n",
              "      <td>12242840</td>\n",
              "      <td>1</td>\n",
              "      <td>1</td>\n",
              "      <td>0</td>\n",
              "      <td>1</td>\n",
              "      <td>50</td>\n",
              "      <td>1300</td>\n",
              "      <td>563</td>\n",
              "      <td>-23.198656</td>\n",
              "      <td>-45.899806</td>\n",
              "    </tr>\n",
              "  </tbody>\n",
              "</table>\n",
              "</div>"
            ],
            "text/plain": [
              "        cep  banheiros  bedrooms  suites  vagas_garagem  total_area  aluguel   \n",
              "0  12212531          1         1       0              0          45      880  \\\n",
              "1  12242840          1         1       0              2          58     1450   \n",
              "2  12242840          1         1       0              2          40     1300   \n",
              "3  12242840          1         1       0              1          48     1100   \n",
              "4  12242840          1         1       0              1          50     1300   \n",
              "\n",
              "   condominio   latitude  longitude  \n",
              "0           0 -23.150556 -45.904873  \n",
              "1         680 -23.198656 -45.899806  \n",
              "2         600 -23.198656 -45.899806  \n",
              "3         625 -23.198656 -45.899806  \n",
              "4         563 -23.198656 -45.899806  "
            ]
          },
          "metadata": {},
          "output_type": "display_data"
        }
      ],
      "source": [
        "# Eliminando linhas com área do imóvel = 0.\n",
        "dados_tratados = dados_bed_filt[dados_bed_filt['total_area'] != 0]\n",
        "# Removendo coluna 'iptu' do dataframe.\n",
        "dados_tratados = dados_tratados.drop(columns='iptu')\n",
        "display(dados_tratados.head())"
      ]
    },
    {
      "cell_type": "code",
      "execution_count": 163,
      "metadata": {},
      "outputs": [
        {
          "data": {
            "text/plain": [
              "(48609, 10)"
            ]
          },
          "execution_count": 163,
          "metadata": {},
          "output_type": "execute_result"
        }
      ],
      "source": [
        "# Exibindo o número de linhas e colunas remanescentes no dataframe.\n",
        "dados_tratados.shape"
      ]
    },
    {
      "attachments": {},
      "cell_type": "markdown",
      "metadata": {},
      "source": [
        "### <li><font color=\"#800080\">Eliminação de Outliers:</font>"
      ]
    },
    {
      "cell_type": "code",
      "execution_count": 164,
      "metadata": {
        "colab": {
          "base_uri": "https://localhost:8080/",
          "height": 363
        },
        "id": "wGFZmvN3kDZO",
        "outputId": "041edc85-9744-4677-8940-4a04e91320ff"
      },
      "outputs": [
        {
          "data": {
            "text/html": [
              "<div>\n",
              "<style scoped>\n",
              "    .dataframe tbody tr th:only-of-type {\n",
              "        vertical-align: middle;\n",
              "    }\n",
              "\n",
              "    .dataframe tbody tr th {\n",
              "        vertical-align: top;\n",
              "    }\n",
              "\n",
              "    .dataframe thead th {\n",
              "        text-align: right;\n",
              "    }\n",
              "</style>\n",
              "<table border=\"1\" class=\"dataframe\">\n",
              "  <thead>\n",
              "    <tr style=\"text-align: right;\">\n",
              "      <th></th>\n",
              "      <th>cep</th>\n",
              "      <th>banheiros</th>\n",
              "      <th>bedrooms</th>\n",
              "      <th>suites</th>\n",
              "      <th>vagas_garagem</th>\n",
              "      <th>total_area</th>\n",
              "      <th>aluguel</th>\n",
              "      <th>condominio</th>\n",
              "      <th>latitude</th>\n",
              "      <th>longitude</th>\n",
              "    </tr>\n",
              "  </thead>\n",
              "  <tbody>\n",
              "    <tr>\n",
              "      <th>count</th>\n",
              "      <td>48609.0</td>\n",
              "      <td>48609.000000</td>\n",
              "      <td>48609.000000</td>\n",
              "      <td>48609.000000</td>\n",
              "      <td>48609.0</td>\n",
              "      <td>4.860900e+04</td>\n",
              "      <td>4.860900e+04</td>\n",
              "      <td>4.860900e+04</td>\n",
              "      <td>48360.000000</td>\n",
              "      <td>48360.000000</td>\n",
              "    </tr>\n",
              "    <tr>\n",
              "      <th>mean</th>\n",
              "      <td>12238056.123928</td>\n",
              "      <td>1.939538</td>\n",
              "      <td>2.375733</td>\n",
              "      <td>0.927359</td>\n",
              "      <td>1.54636</td>\n",
              "      <td>3.246334e+02</td>\n",
              "      <td>3.508205e+03</td>\n",
              "      <td>8.885837e+02</td>\n",
              "      <td>-22.841057</td>\n",
              "      <td>-45.573176</td>\n",
              "    </tr>\n",
              "    <tr>\n",
              "      <th>std</th>\n",
              "      <td>97158.633924</td>\n",
              "      <td>1.146284</td>\n",
              "      <td>0.827984</td>\n",
              "      <td>0.981504</td>\n",
              "      <td>1.148906</td>\n",
              "      <td>3.744705e+04</td>\n",
              "      <td>2.387660e+04</td>\n",
              "      <td>2.058932e+04</td>\n",
              "      <td>5.013969</td>\n",
              "      <td>4.341702</td>\n",
              "    </tr>\n",
              "    <tr>\n",
              "      <th>min</th>\n",
              "      <td>12242.0</td>\n",
              "      <td>1.000000</td>\n",
              "      <td>1.000000</td>\n",
              "      <td>0.000000</td>\n",
              "      <td>0.0</td>\n",
              "      <td>1.000000e+00</td>\n",
              "      <td>2.700000e+02</td>\n",
              "      <td>0.000000e+00</td>\n",
              "      <td>-23.680094</td>\n",
              "      <td>-47.467191</td>\n",
              "    </tr>\n",
              "    <tr>\n",
              "      <th>1%</th>\n",
              "      <td>12210090.0</td>\n",
              "      <td>1.000000</td>\n",
              "      <td>1.000000</td>\n",
              "      <td>0.000000</td>\n",
              "      <td>0.0</td>\n",
              "      <td>3.300000e+01</td>\n",
              "      <td>6.500000e+02</td>\n",
              "      <td>0.000000e+00</td>\n",
              "      <td>-23.265539</td>\n",
              "      <td>-45.953995</td>\n",
              "    </tr>\n",
              "    <tr>\n",
              "      <th>25%</th>\n",
              "      <td>12235070.0</td>\n",
              "      <td>1.000000</td>\n",
              "      <td>2.000000</td>\n",
              "      <td>0.000000</td>\n",
              "      <td>1.0</td>\n",
              "      <td>5.400000e+01</td>\n",
              "      <td>1.320000e+03</td>\n",
              "      <td>3.200000e+02</td>\n",
              "      <td>-23.223409</td>\n",
              "      <td>-45.908882</td>\n",
              "    </tr>\n",
              "    <tr>\n",
              "      <th>50%</th>\n",
              "      <td>12242840.0</td>\n",
              "      <td>2.000000</td>\n",
              "      <td>2.000000</td>\n",
              "      <td>1.000000</td>\n",
              "      <td>1.0</td>\n",
              "      <td>7.100000e+01</td>\n",
              "      <td>2.000000e+03</td>\n",
              "      <td>4.300000e+02</td>\n",
              "      <td>-23.214139</td>\n",
              "      <td>-45.902287</td>\n",
              "    </tr>\n",
              "    <tr>\n",
              "      <th>75%</th>\n",
              "      <td>12246013.0</td>\n",
              "      <td>2.000000</td>\n",
              "      <td>3.000000</td>\n",
              "      <td>1.000000</td>\n",
              "      <td>2.0</td>\n",
              "      <td>1.000000e+02</td>\n",
              "      <td>3.200000e+03</td>\n",
              "      <td>6.300000e+02</td>\n",
              "      <td>-23.199381</td>\n",
              "      <td>-45.888362</td>\n",
              "    </tr>\n",
              "    <tr>\n",
              "      <th>99.5%</th>\n",
              "      <td>12248610.0</td>\n",
              "      <td>6.000000</td>\n",
              "      <td>4.000000</td>\n",
              "      <td>4.000000</td>\n",
              "      <td>4.0</td>\n",
              "      <td>4.500000e+02</td>\n",
              "      <td>1.800000e+04</td>\n",
              "      <td>2.500000e+03</td>\n",
              "      <td>45.537405</td>\n",
              "      <td>13.660080</td>\n",
              "    </tr>\n",
              "    <tr>\n",
              "      <th>max</th>\n",
              "      <td>13660310.0</td>\n",
              "      <td>11.000000</td>\n",
              "      <td>5.000000</td>\n",
              "      <td>40.000000</td>\n",
              "      <td>50.0</td>\n",
              "      <td>8.052809e+06</td>\n",
              "      <td>1.296000e+06</td>\n",
              "      <td>2.500000e+06</td>\n",
              "      <td>45.537405</td>\n",
              "      <td>13.660080</td>\n",
              "    </tr>\n",
              "  </tbody>\n",
              "</table>\n",
              "</div>"
            ],
            "text/plain": [
              "                   cep     banheiros      bedrooms        suites   \n",
              "count          48609.0  48609.000000  48609.000000  48609.000000  \\\n",
              "mean   12238056.123928      1.939538      2.375733      0.927359   \n",
              "std       97158.633924      1.146284      0.827984      0.981504   \n",
              "min            12242.0      1.000000      1.000000      0.000000   \n",
              "1%          12210090.0      1.000000      1.000000      0.000000   \n",
              "25%         12235070.0      1.000000      2.000000      0.000000   \n",
              "50%         12242840.0      2.000000      2.000000      1.000000   \n",
              "75%         12246013.0      2.000000      3.000000      1.000000   \n",
              "99.5%       12248610.0      6.000000      4.000000      4.000000   \n",
              "max         13660310.0     11.000000      5.000000     40.000000   \n",
              "\n",
              "       vagas_garagem    total_area       aluguel    condominio      latitude   \n",
              "count        48609.0  4.860900e+04  4.860900e+04  4.860900e+04  48360.000000  \\\n",
              "mean         1.54636  3.246334e+02  3.508205e+03  8.885837e+02    -22.841057   \n",
              "std         1.148906  3.744705e+04  2.387660e+04  2.058932e+04      5.013969   \n",
              "min              0.0  1.000000e+00  2.700000e+02  0.000000e+00    -23.680094   \n",
              "1%               0.0  3.300000e+01  6.500000e+02  0.000000e+00    -23.265539   \n",
              "25%              1.0  5.400000e+01  1.320000e+03  3.200000e+02    -23.223409   \n",
              "50%              1.0  7.100000e+01  2.000000e+03  4.300000e+02    -23.214139   \n",
              "75%              2.0  1.000000e+02  3.200000e+03  6.300000e+02    -23.199381   \n",
              "99.5%            4.0  4.500000e+02  1.800000e+04  2.500000e+03     45.537405   \n",
              "max             50.0  8.052809e+06  1.296000e+06  2.500000e+06     45.537405   \n",
              "\n",
              "          longitude  \n",
              "count  48360.000000  \n",
              "mean     -45.573176  \n",
              "std        4.341702  \n",
              "min      -47.467191  \n",
              "1%       -45.953995  \n",
              "25%      -45.908882  \n",
              "50%      -45.902287  \n",
              "75%      -45.888362  \n",
              "99.5%     13.660080  \n",
              "max       13.660080  "
            ]
          },
          "execution_count": 164,
          "metadata": {},
          "output_type": "execute_result"
        }
      ],
      "source": [
        "# Observando os extremos de cada parâmetro do dataframe.\n",
        "dados_tratados.describe(percentiles=[0.01,0.25,0.50,0.75,0.995])"
      ]
    },
    {
      "cell_type": "code",
      "execution_count": 165,
      "metadata": {
        "colab": {
          "base_uri": "https://localhost:8080/",
          "height": 424
        },
        "id": "vGcErKMEoWNB",
        "outputId": "364f9eb4-3425-4473-c36a-ac1db2d0a983"
      },
      "outputs": [],
      "source": [
        "# Eliminando outliers baseado na estatística da amostra obtida acima.\n",
        "filtro_suites = dados_tratados['suites'] < 6\n",
        "dados_tratados = dados_tratados[filtro_suites]\n",
        "filtro_banheiros = dados_tratados['banheiros'] < 6\n",
        "dados_tratados = dados_tratados[filtro_banheiros]\n",
        "filtro_area = dados_tratados['total_area'] < 500\n",
        "dados_tratados = dados_tratados[filtro_area]\n",
        "filtro_area = dados_tratados['total_area'] > 24\n",
        "dados_tratados = dados_tratados[filtro_area]\n",
        "filtro_vagas = dados_tratados['vagas_garagem'] < 10\n",
        "dados_tratados = dados_tratados[filtro_vagas]\n",
        "filtro_condominio = dados_tratados['condominio'] < 5000\n",
        "dados_tratados = dados_tratados[filtro_condominio]\n",
        "filtro_aluguel = dados_tratados['aluguel'] < 30000\n",
        "dados_tratados = dados_tratados[filtro_aluguel]"
      ]
    },
    {
      "cell_type": "code",
      "execution_count": 166,
      "metadata": {},
      "outputs": [
        {
          "name": "stdout",
          "output_type": "stream",
          "text": [
            "<class 'pandas.core.frame.DataFrame'>\n",
            "Index: 46938 entries, 0 to 59886\n",
            "Data columns (total 9 columns):\n",
            " #   Column         Non-Null Count  Dtype  \n",
            "---  ------         --------------  -----  \n",
            " 0   banheiros      46938 non-null  int64  \n",
            " 1   bedrooms       46938 non-null  int64  \n",
            " 2   suites         46938 non-null  int64  \n",
            " 3   vagas_garagem  46938 non-null  Int64  \n",
            " 4   total_area     46938 non-null  int64  \n",
            " 5   aluguel        46938 non-null  int64  \n",
            " 6   condominio     46938 non-null  int64  \n",
            " 7   latitude       46938 non-null  float64\n",
            " 8   longitude      46938 non-null  float64\n",
            "dtypes: Int64(1), float64(2), int64(6)\n",
            "memory usage: 3.6 MB\n"
          ]
        }
      ],
      "source": [
        "# Eliminando linhas sem informação de coordenadas geográficas.\n",
        "dados_tratados = dados_tratados.dropna()\n",
        "# Eliminando a coluna 'cep', pois seu objetivo era meramente possibilitar a obtenção das coordenadas geográficas.\n",
        "dados_tratados = dados_tratados.drop(columns='cep')\n",
        "dados_tratados.info()"
      ]
    },
    {
      "cell_type": "code",
      "execution_count": 167,
      "metadata": {},
      "outputs": [
        {
          "name": "stdout",
          "output_type": "stream",
          "text": [
            "<class 'pandas.core.frame.DataFrame'>\n",
            "Index: 46324 entries, 0 to 59886\n",
            "Data columns (total 9 columns):\n",
            " #   Column         Non-Null Count  Dtype  \n",
            "---  ------         --------------  -----  \n",
            " 0   banheiros      46324 non-null  int64  \n",
            " 1   bedrooms       46324 non-null  int64  \n",
            " 2   suites         46324 non-null  int64  \n",
            " 3   vagas_garagem  46324 non-null  Int64  \n",
            " 4   total_area     46324 non-null  int64  \n",
            " 5   aluguel        46324 non-null  int64  \n",
            " 6   condominio     46324 non-null  int64  \n",
            " 7   latitude       46324 non-null  float64\n",
            " 8   longitude      46324 non-null  float64\n",
            "dtypes: Int64(1), float64(2), int64(6)\n",
            "memory usage: 3.6 MB\n"
          ]
        }
      ],
      "source": [
        "# Eliminando linhas com coordenadas geográficas foram a região de São José dos Campos.\n",
        "# Dados dos limites geográficos de SJC extraídos da página do IBGE: https://servicodados.ibge.gov.br/api/v3/malhas/municipios/3549904/metadados\n",
        "# \"centroide\":{\"longitude\":-45.9285,\"latitude\":-23.0906},\n",
        "# \"regiao-limitrofe\":[{\"longitude\":-46.108,\"latitude\":-22.8163},{\"longitude\":-45.7213,\"latitude\":-23.3067}]\n",
        "dados_tratados = dados_tratados[dados_tratados['latitude'] < -22.8]\n",
        "dados_tratados = dados_tratados[-23.4 < dados_tratados['latitude']]\n",
        "dados_tratados = dados_tratados[dados_tratados['longitude'] < -45.7]\n",
        "dados_tratados = dados_tratados[-46.2 < dados_tratados['longitude']]\n",
        "dados_tratados.info()"
      ]
    },
    {
      "attachments": {},
      "cell_type": "markdown",
      "metadata": {},
      "source": [
        "<hr>"
      ]
    },
    {
      "attachments": {},
      "cell_type": "markdown",
      "metadata": {},
      "source": [
        "# <b>3) Visualizando os Dados Tratados"
      ]
    },
    {
      "cell_type": "code",
      "execution_count": null,
      "metadata": {},
      "outputs": [],
      "source": [
        "# Instalando biblioteca Seaborn.\n",
        "%pip install seaborn"
      ]
    },
    {
      "cell_type": "code",
      "execution_count": 72,
      "metadata": {
        "colab": {
          "base_uri": "https://localhost:8080/",
          "height": 542
        },
        "id": "kuVCMwIJkH3j",
        "outputId": "ab9e46a4-39ec-4d85-8c36-c19326e3b76b"
      },
      "outputs": [],
      "source": [
        "# Importando biblioteca Seaborn.\n",
        "import seaborn as sns"
      ]
    },
    {
      "attachments": {},
      "cell_type": "markdown",
      "metadata": {},
      "source": [
        "### <li><font color=\"#800080\">Visualizando a Matriz de Correlação entre os Dados:</font>"
      ]
    },
    {
      "cell_type": "code",
      "execution_count": 168,
      "metadata": {
        "id": "H9U_ybesuuoI"
      },
      "outputs": [
        {
          "data": {
            "text/plain": [
              "<Axes: >"
            ]
          },
          "execution_count": 168,
          "metadata": {},
          "output_type": "execute_result"
        },
        {
          "data": {
            "image/png": "[encoded data removed]",
            "text/plain": [
              "<Figure size 640x480 with 2 Axes>"
            ]
          },
          "metadata": {},
          "output_type": "display_data"
        }
      ],
      "source": [
        "dados_tratados.corr()\n",
        "sns.heatmap(dados_tratados.corr(),cmap='Wistia',annot=True, fmt='.3f', linewidths=.2)"
      ]
    },
    {
      "attachments": {},
      "cell_type": "markdown",
      "metadata": {},
      "source": [
        "<font color=\"#800080\"><b>OBS.:</b> Observa-se que as variáveis que mais influenciam diretamente o valor do aluguel são a área total, o nº de suites, o nº de banheiros e o nº de vagas de garagem. Foi possível notar também que as variáveis que menos influenciam diretamente o valor dos aluguéis foram a latitude e longitude.</font>"
      ]
    },
    {
      "attachments": {},
      "cell_type": "markdown",
      "metadata": {},
      "source": [
        "### <li><font color=\"#800080\">Visualizando as Correlações em Gráficos:</font>"
      ]
    },
    {
      "cell_type": "code",
      "execution_count": 169,
      "metadata": {},
      "outputs": [
        {
          "data": {
            "text/plain": [
              "<Axes: xlabel='bedrooms', ylabel='aluguel'>"
            ]
          },
          "execution_count": 169,
          "metadata": {},
          "output_type": "execute_result"
        },
        {
          "data": {
            "image/png": "[encoded data removed]",
            "text/plain": [
              "<Figure size 640x480 with 2 Axes>"
            ]
          },
          "metadata": {},
          "output_type": "display_data"
        }
      ],
      "source": [
        "# Gráfico em que é possível verificar a influência do número de quartos e vagas de garagem no valor dos aluguéis.\n",
        "dados_tratados.plot.scatter(x='bedrooms', y='aluguel', c= 'vagas_garagem', cmap= 'viridis', label= 'Aluguel x Nº de Quartos / Vagas', s=80)"
      ]
    },
    {
      "cell_type": "code",
      "execution_count": 170,
      "metadata": {},
      "outputs": [
        {
          "data": {
            "text/plain": [
              "<seaborn.axisgrid.FacetGrid at 0x1f35e2e7950>"
            ]
          },
          "execution_count": 170,
          "metadata": {},
          "output_type": "execute_result"
        },
        {
          "data": {
            "image/png": "[encoded data removed]",
            "text/plain": [
              "<Figure size 586.472x500 with 1 Axes>"
            ]
          },
          "metadata": {},
          "output_type": "display_data"
        }
      ],
      "source": [
        "# Gráfico em que é possível verificar a influência da área do imóvel e número de quartos no valor dos aluguéis.\n",
        "sns.set_theme(style=\"darkgrid\")\n",
        "sns.relplot(data= dados_tratados, x='total_area', y= 'aluguel',hue= 'bedrooms', style= 'bedrooms', palette= 'ch: s=.5, r=-.8')"
      ]
    },
    {
      "attachments": {},
      "cell_type": "markdown",
      "metadata": {},
      "source": [
        "### <li><font color=\"#800080\">Visualizando a Distribuição Geográfica dos Aluguéis:</font>"
      ]
    },
    {
      "cell_type": "code",
      "execution_count": 171,
      "metadata": {},
      "outputs": [
        {
          "data": {
            "text/plain": [
              "<seaborn.axisgrid.FacetGrid at 0x1f3f97a45d0>"
            ]
          },
          "execution_count": 171,
          "metadata": {},
          "output_type": "execute_result"
        },
        {
          "data": {
            "image/png": "[encoded data removed]",
            "text/plain": [
              "<Figure size 597.5x500 with 1 Axes>"
            ]
          },
          "metadata": {},
          "output_type": "display_data"
        }
      ],
      "source": [
        "# Gráfico em que é possível verificar a variação dos aluguéis segundo a posição geográfica dos imóveis na cidade.\n",
        "sns.relplot(data= dados_tratados, x='longitude', y= 'latitude',hue= 'aluguel', palette= 'ch: s=.5, r=-.8')"
      ]
    },
    {
      "attachments": {},
      "cell_type": "markdown",
      "metadata": {},
      "source": [
        "<font color=\"#800080\"><b>OBS.:</b> Neste gráfico é possível entender porque a correlação entre Latitude/Longitude x Aluguéis foi a mais baixa na matriz de correlações, já que há basicamente 2 regiões de concentração de aluguéis mais altos e todas as demais regiões com valores de aluguéis semelhantes.</font>"
      ]
    },
    {
      "attachments": {},
      "cell_type": "markdown",
      "metadata": {},
      "source": [
        "<hr>"
      ]
    },
    {
      "attachments": {},
      "cell_type": "markdown",
      "metadata": {},
      "source": [
        "# <b>4) Algoritmos de Aprendizado de Máquina</b>"
      ]
    },
    {
      "cell_type": "code",
      "execution_count": null,
      "metadata": {},
      "outputs": [],
      "source": [
        "# Instalando a biblioteca scikit-learn para obter os algoritmos de aprendizagem de máquina.\n",
        "%pip install sklearn\n",
        "%pip install -U scikit-learn"
      ]
    },
    {
      "cell_type": "code",
      "execution_count": 119,
      "metadata": {},
      "outputs": [],
      "source": [
        "# Importando a biblioteca train_test_split para dividir o conjunto de dados entre treino e teste.\n",
        "from sklearn.model_selection import train_test_split"
      ]
    },
    {
      "attachments": {},
      "cell_type": "markdown",
      "metadata": {},
      "source": [
        "### <li><font color=\"#800080\">Dividindo os dados em Dados de Entrada e Dados de Saída do Modelo:</font>"
      ]
    },
    {
      "cell_type": "code",
      "execution_count": 172,
      "metadata": {},
      "outputs": [],
      "source": [
        "# Definindo x como os dados de entrada.\n",
        "x = dados_tratados.drop(columns='aluguel')\n",
        "# Defininfo y como dados de saída.\n",
        "y = dados_tratados['aluguel']"
      ]
    },
    {
      "attachments": {},
      "cell_type": "markdown",
      "metadata": {},
      "source": [
        "### <li><font color=\"#800080\">Dividindo os dados em Dados de Treino e Dados de Teste:</font>"
      ]
    },
    {
      "cell_type": "code",
      "execution_count": 173,
      "metadata": {},
      "outputs": [],
      "source": [
        "# Utilizando 70% dos dados para treino dos modelos de aprendizagem e 30% para teste destes modelos.\n",
        "x_train, x_test, y_train, y_test = train_test_split(x, y, test_size=0.3, random_state=1)"
      ]
    },
    {
      "attachments": {},
      "cell_type": "markdown",
      "metadata": {},
      "source": [
        "### <li><font color=\"#800080\">Treinando os modelos de Inteligência Artificial:</font>"
      ]
    },
    {
      "cell_type": "code",
      "execution_count": 122,
      "metadata": {},
      "outputs": [],
      "source": [
        "# Importando os modelos a serem utilizados.\n",
        "from sklearn.linear_model import LinearRegression\n",
        "from sklearn.linear_model import RANSACRegressor\n",
        "from sklearn.ensemble import RandomForestRegressor\n",
        "from sklearn import metrics"
      ]
    },
    {
      "cell_type": "code",
      "execution_count": null,
      "metadata": {},
      "outputs": [],
      "source": [
        "# Fase de treino dos modelos\n",
        "# Modelo Regressão Linear\n",
        "lin_reg = LinearRegression()\n",
        "lin_reg.fit(x_train, y_train)\n",
        "# Modelo RANSAC\n",
        "ran_reg = RANSACRegressor()\n",
        "ran_reg.fit(x_train, y_train)\n",
        "# Modelo Random Forest\n",
        "rf_reg = RandomForestRegressor()\n",
        "rf_reg.fit(x_train, y_train)"
      ]
    },
    {
      "attachments": {},
      "cell_type": "markdown",
      "metadata": {},
      "source": [
        "### <li><font color=\"#800080\">Testando os Modelos:</font>"
      ]
    },
    {
      "cell_type": "code",
      "execution_count": 175,
      "metadata": {},
      "outputs": [],
      "source": [
        "# Registrando os testes dos 3 modelos\n",
        "test_pred_lin = lin_reg.predict(x_test)\n",
        "test_pred_ran = ran_reg.predict(x_test)\n",
        "test_pred_rf = rf_reg.predict(x_test)"
      ]
    },
    {
      "attachments": {},
      "cell_type": "markdown",
      "metadata": {},
      "source": [
        "### <li><font color=\"#800080\">Avaliando os Resultados dos Testes:</font>"
      ]
    },
    {
      "cell_type": "code",
      "execution_count": 176,
      "metadata": {},
      "outputs": [
        {
          "name": "stdout",
          "output_type": "stream",
          "text": [
            "R² da Regressão Linear: 0.7483979652966213\n",
            "RSME da Regressão Linear: 941.9893110722454\n"
          ]
        }
      ],
      "source": [
        "# Resultado do modelo de regressão linear\n",
        "r2_lin = metrics.r2_score(y_test,test_pred_lin)\n",
        "rmse_lin = np.sqrt(metrics.mean_squared_error(y_test, test_pred_lin))\n",
        "print(f'R² da Regressão Linear: {r2_lin}')\n",
        "print(f'RSME da Regressão Linear: {rmse_lin}')"
      ]
    },
    {
      "cell_type": "code",
      "execution_count": 126,
      "metadata": {},
      "outputs": [
        {
          "name": "stdout",
          "output_type": "stream",
          "text": [
            "R² da Regressão RANSAC: 0.5515579486163507\n",
            "RSME da Regressão RANSAC: 1289.4460190857412\n"
          ]
        }
      ],
      "source": [
        "# Resultado do modelo RANSAC\n",
        "r2_ran = metrics.r2_score(y_test,test_pred_ran)\n",
        "rmse_ran = np.sqrt(metrics.mean_squared_error(y_test, test_pred_ran))\n",
        "print(f'R² da Regressão RANSAC: {r2_ran}')\n",
        "print(f'RSME da Regressão RANSAC: {rmse_ran}')"
      ]
    },
    {
      "cell_type": "code",
      "execution_count": 127,
      "metadata": {},
      "outputs": [
        {
          "name": "stdout",
          "output_type": "stream",
          "text": [
            "R² da Regressão Random Forest: 0.9201626724079764\n",
            "RSME da Regressão Random Forest: 544.067765682708\n"
          ]
        }
      ],
      "source": [
        "# Resultado do modelo Random Forest\n",
        "r2_rf = metrics.r2_score(y_test,test_pred_rf)\n",
        "rmse_rf = np.sqrt(metrics.mean_squared_error(y_test, test_pred_rf))\n",
        "print(f'R² da Regressão Random Forest: {r2_rf}')\n",
        "print(f'RSME da Regressão Random Forest: {rmse_rf}')"
      ]
    }
  ],
  "metadata": {
    "colab": {
      "authorship_tag": "ABX9TyPOOJPfSachYteo5lDQNmvF",
      "include_colab_link": true,
      "provenance": []
    },
    "kernelspec": {
      "display_name": "Python 3",
      "name": "python3"
    },
    "language_info": {
      "codemirror_mode": {
        "name": "ipython",
        "version": 3
      },
      "file_extension": ".py",
      "mimetype": "text/x-python",
      "name": "python",
      "nbconvert_exporter": "python",
      "pygments_lexer": "ipython3",
      "version": "3.11.3"
    }
  },
  "nbformat": 4,
  "nbformat_minor": 0
}
